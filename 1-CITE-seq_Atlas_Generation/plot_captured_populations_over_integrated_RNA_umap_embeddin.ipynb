{
 "cells": [
  {
   "cell_type": "code",
   "execution_count": null,
   "metadata": {},
   "outputs": [],
   "source": [
    "import os\n",
    "import pandas as pd\n",
    "import numpy as np\n",
    "import matplotlib.pyplot as plt\n",
    "\n",
    "from adjustText import adjust_text\n",
    "\n",
    "os.chdir(\"/media/kyle_storage/kyle_ferchen/grimes_lab_main/analysis/2023_06_07_plot_data_over_transcriptome_r7_merged_umap/\")"
   ]
  },
  {
   "cell_type": "code",
   "execution_count": null,
   "metadata": {},
   "outputs": [],
   "source": [
    "map_r7_names = pd.read_csv(\"input/map_r7-v1_to_r7-v2_names.csv\", \n",
    "    index_col=0).iloc[:,0]"
   ]
  },
  {
   "cell_type": "code",
   "execution_count": null,
   "metadata": {},
   "outputs": [],
   "source": [
    "## Read in UMAP of R7 data\n",
    "umap = pd.read_table(\\\n",
    "    \"input/cite_hive_integration_umap/hive_cite_umap_coordinates.tsv\",\n",
    "    index_col=0)\n",
    "\n",
    "umap_anno = pd.read_table(\\\n",
    "        \"input/cite_hive_integration_umap/groups.r7-10x-hive.txt\",\n",
    "    header=None, index_col=0)\n",
    "umap_anno.index.name = None\n",
    "umap_anno.columns = [\"port\", \"cluster\"]\n",
    "umap_anno.head()"
   ]
  },
  {
   "cell_type": "code",
   "execution_count": null,
   "metadata": {},
   "outputs": [],
   "source": [
    "hive_anno = pd.read_table(\\\n",
    "    \"input/cite_hive_integration_umap/hive_cellharmony_results.txt\",\n",
    "    index_col=0).iloc[:,-2]\n",
    "\n",
    "hive_anno.index = [item.replace(\"KF.\", \"\") for item in hive_anno.index.values]\n",
    "\n",
    "def rename_hive_cell_info(x):\n",
    "    tmp_x = x.split(\"_\")\n",
    "    return(tmp_x[0] + \".\" + tmp_x[-1])\n",
    "\n",
    "hive_anno = pd.DataFrame({\\\n",
    "        \"port\": [item.split(\"_\")[-1] for item in hive_anno.index.values],\n",
    "        \"cluster\": [map_r7_names[item] for item in hive_anno.values]},\n",
    "    index=[rename_hive_cell_info(item) for item in hive_anno.index.values])\n",
    "\n",
    "hive_anno.head()"
   ]
  },
  {
   "cell_type": "code",
   "execution_count": null,
   "metadata": {},
   "outputs": [],
   "source": [
    "cite_hive_anno = pd.concat([umap_anno, hive_anno])\n",
    "cite_hive_anno.head()"
   ]
  },
  {
   "cell_type": "code",
   "execution_count": null,
   "metadata": {},
   "outputs": [],
   "source": [
    "umap[\"cluster\"] = cite_hive_anno.loc[umap.index.values, \"cluster\"]\n",
    "umap.head()"
   ]
  },
  {
   "cell_type": "code",
   "execution_count": null,
   "metadata": {},
   "outputs": [],
   "source": [
    "umap_centroids = pd.pivot_table(\\\n",
    "    umap, \n",
    "    index=\"cluster\", \n",
    "    values=[\"UMAP_1\", \"UMAP_2\"], \n",
    "    aggfunc=np.mean)\n",
    "umap_centroids.head()"
   ]
  },
  {
   "cell_type": "code",
   "execution_count": null,
   "metadata": {},
   "outputs": [],
   "source": [
    "umap_bounds = pd.concat([\\\n",
    "        pd.Series(umap.iloc[:,:2].min(axis=0), name=\"min\"),\n",
    "        pd.Series(umap.iloc[:,:2].max(axis=0), name=\"max\")],\n",
    "    axis=1)\n",
    "padding = 0.05 * (umap_bounds[\"max\"] - umap_bounds[\"min\"])\n",
    "umap_bounds[\"min\"] = umap_bounds[\"min\"] - padding\n",
    "umap_bounds[\"max\"] = umap_bounds[\"max\"] + padding\n",
    "umap_bounds"
   ]
  },
  {
   "cell_type": "code",
   "execution_count": null,
   "metadata": {},
   "outputs": [],
   "source": [
    "fig, ax = plt.subplots(figsize=(12,12))\n",
    "\n",
    "ax.scatter(umap.iloc[:,0], umap.iloc[:,1], color=\"gray\", alpha=0.01,\n",
    "    edgecolors=None, s=4)\n",
    "ax.scatter(umap_centroids.iloc[:,0].values, umap_centroids.iloc[:,1].values,\n",
    "    color=\"red\", edgecolors=\"black\")\n",
    "texts = [ax.text(\\\n",
    "    umap_centroids.loc[item][0],\n",
    "    umap_centroids.loc[item][1],\n",
    "    item) for item in umap_centroids.index.values]\n",
    "adjust_text(\\\n",
    "    texts, \n",
    "    x=umap_centroids.iloc[:,0].values, \n",
    "    y=umap_centroids.iloc[:,1].values,\n",
    "    arrowprops=dict(arrowstyle='->', color='blue'))\n",
    "ax.set_xlim(umap_bounds.iloc[0,:].values)\n",
    "ax.set_ylim(umap_bounds.iloc[1,:].values)\n",
    "ax.spines.right.set_visible(False)\n",
    "ax.spines.top.set_visible(False)\n",
    "ax.spines.bottom.set_visible(False)\n",
    "ax.spines.left.set_visible(False)\n",
    "ax.set_xticks([])\n",
    "ax.set_yticks([])"
   ]
  },
  {
   "cell_type": "code",
   "execution_count": null,
   "metadata": {},
   "outputs": [],
   "source": [
    "print(cite_hive_anno[\"port\"].value_counts().to_string())"
   ]
  },
  {
   "cell_type": "code",
   "execution_count": null,
   "metadata": {},
   "outputs": [],
   "source": [
    "# Plot ports defining sorted populations from cite-seq titration experiment\n",
    "map_port_to_gate_color = {\\\n",
    "    \"AS_CITE_Kit\": \"#EBC856\",\n",
    "    \"AS_CITE_CD127\": \"#54D444\",\n",
    "    \"AS_CITE_HSC\": \"#4FCCF7\",\n",
    "    \"AS_CITE_Multilin1\": \"#9233F5\",\n",
    "    \"AS_CITE_Multilin2\": \"#9233F5\"}"
   ]
  },
  {
   "cell_type": "code",
   "execution_count": null,
   "metadata": {},
   "outputs": [],
   "source": [
    "plt.close(\"all\")\n",
    "\n",
    "fig, ax = plt.subplots(figsize=(12,12))\n",
    "\n",
    "# Filter to cells in titrated mix dataset\n",
    "filtered_cells = cite_hive_anno.loc[\\\n",
    "    cite_hive_anno[\"port\"].isin(\\\n",
    "        list(map_port_to_gate_color.keys()))].index.values\n",
    "\n",
    "# Filter umap and order\n",
    "seg_anno = umap.loc[filtered_cells]\n",
    "seg_anno[\"port\"] = cite_hive_anno.loc[filtered_cells, \"port\"].values\n",
    "seg_anno[\"tmp_order\"] = seg_anno[\"port\"].replace({\\\n",
    "    \"AS_CITE_Kit\": 5,\n",
    "    \"AS_CITE_CD127\": 1,\n",
    "    \"AS_CITE_HSC\": 2,\n",
    "    \"AS_CITE_Multilin1\": 3,\n",
    "    \"AS_CITE_Multilin2\": 4})\n",
    "seg_anno = seg_anno.sort_values(by=\"tmp_order\")\n",
    "\n",
    "# Define color vector for plotting by port\n",
    "tmp_color_vector = seg_anno[\"port\"].replace(\\\n",
    "    map_port_to_gate_color).values\n",
    "\n",
    "ax.scatter(\\\n",
    "    seg_anno[\"UMAP_1\"].values,\n",
    "    seg_anno[\"UMAP_2\"].values,\n",
    "    c = tmp_color_vector,\n",
    "    alpha = 0.5,\n",
    "    s = 8,\n",
    "    edgecolors=None)\n",
    "ax.set_xlim(umap_bounds.iloc[0,:].values)\n",
    "ax.set_ylim(umap_bounds.iloc[1,:].values)\n",
    "ax.spines.right.set_visible(False)\n",
    "ax.spines.top.set_visible(False)\n",
    "ax.spines.bottom.set_visible(False)\n",
    "ax.spines.left.set_visible(False)\n",
    "ax.set_xticks([])\n",
    "ax.set_yticks([])\n",
    "\n",
    "plt.savefig(\"output/integrated_umap_titrated_cite_seq_umap_plot_ports.pdf\")"
   ]
  }
 ],
 "metadata": {
  "kernelspec": {
   "display_name": "pyInfinityFlow",
   "language": "python",
   "name": "python3"
  },
  "language_info": {
   "codemirror_mode": {
    "name": "ipython",
    "version": 3
   },
   "file_extension": ".py",
   "mimetype": "text/x-python",
   "name": "python",
   "nbconvert_exporter": "python",
   "pygments_lexer": "ipython3",
   "version": "3.8.15"
  },
  "orig_nbformat": 4
 },
 "nbformat": 4,
 "nbformat_minor": 2
}
