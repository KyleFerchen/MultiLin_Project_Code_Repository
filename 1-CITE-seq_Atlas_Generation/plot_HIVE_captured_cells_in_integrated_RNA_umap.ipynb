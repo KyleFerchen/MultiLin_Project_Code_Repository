{
 "cells": [
  {
   "cell_type": "code",
   "execution_count": null,
   "metadata": {},
   "outputs": [],
   "source": [
    "import os\n",
    "import pandas as pd\n",
    "import numpy as np\n",
    "import seaborn as sns\n",
    "import matplotlib.pyplot as plt\n",
    "plt.rcParams[\"font.family\"] = \"Arial\"\n",
    "import matplotlib\n",
    "matplotlib.rcParams['pdf.fonttype'] = 42\n",
    "\n",
    "\n",
    "os.chdir(\"/media/kyle_storage/kyle_ferchen/grimes_lab_main/analysis/2023_06_07_plot_data_over_transcriptome_r7_merged_umap/\")"
   ]
  },
  {
   "cell_type": "code",
   "execution_count": null,
   "metadata": {},
   "outputs": [],
   "source": [
    "# Read in consistent R7 color definitions\n",
    "path_r7_colors = \"/media/kyle_storage/kyle_ferchen/grimes_lab_main/analysis/\"\\\n",
    "    \"2022_12_07_new_multilin_panel/output/automated_py3_cellharmony_r7/\"\\\n",
    "    \"r7_clusters_to_colors_defined_2023_07_13.csv\"\n",
    "r7_colors = pd.read_csv(path_r7_colors, index_col=0, header=None).iloc[:,0]\n",
    "r7_colors.index.name = None\n",
    "\n",
    "r7_colors"
   ]
  },
  {
   "cell_type": "code",
   "execution_count": null,
   "metadata": {},
   "outputs": [],
   "source": [
    "map_r7_names = pd.read_csv(\"input/map_r7-v1_to_r7-v2_names.csv\", \n",
    "    index_col=0).iloc[:,0]"
   ]
  },
  {
   "cell_type": "code",
   "execution_count": null,
   "metadata": {},
   "outputs": [],
   "source": [
    "## Read in UMAP of R7 data\n",
    "umap = pd.read_table(\\\n",
    "    \"input/cite_hive_integration_umap/hive_cite_umap_coordinates.tsv\",\n",
    "    index_col=0)\n",
    "\n",
    "umap_anno = pd.read_table(\\\n",
    "        \"input/cite_hive_integration_umap/groups.r7-10x-hive.txt\",\n",
    "    header=None, index_col=0)\n",
    "umap_anno.index.name = None\n",
    "umap_anno.columns = [\"port\", \"cluster\"]\n",
    "umap_anno.head()"
   ]
  },
  {
   "cell_type": "code",
   "execution_count": null,
   "metadata": {},
   "outputs": [],
   "source": [
    "hive_anno = pd.read_table(\\\n",
    "    \"input/cite_hive_integration_umap/hive_cellharmony_results.txt\",\n",
    "    index_col=0).iloc[:,-2]\n",
    "\n",
    "hive_anno.index = [item.replace(\"KF.\", \"\") for item in hive_anno.index.values]\n",
    "\n",
    "def rename_hive_cell_info(x):\n",
    "    tmp_x = x.split(\"_\")\n",
    "    return(tmp_x[0] + \".\" + tmp_x[-1])\n",
    "\n",
    "hive_anno = pd.DataFrame({\\\n",
    "        \"port\": [item.split(\"_\")[-1] for item in hive_anno.index.values],\n",
    "        \"cluster\": [map_r7_names[item] for item in hive_anno.values]},\n",
    "    index=[rename_hive_cell_info(item) for item in hive_anno.index.values])\n",
    "\n",
    "hive_anno.head()"
   ]
  },
  {
   "cell_type": "code",
   "execution_count": null,
   "metadata": {},
   "outputs": [],
   "source": [
    "cite_hive_anno = pd.concat([umap_anno, hive_anno])\n",
    "cite_hive_anno.head()"
   ]
  },
  {
   "cell_type": "code",
   "execution_count": null,
   "metadata": {},
   "outputs": [],
   "source": [
    "umap[\"cluster\"] = cite_hive_anno.loc[umap.index.values, \"cluster\"]\n",
    "umap.head()"
   ]
  },
  {
   "cell_type": "code",
   "execution_count": null,
   "metadata": {},
   "outputs": [],
   "source": [
    "umap_centroids = pd.pivot_table(\\\n",
    "    umap, \n",
    "    index=\"cluster\", \n",
    "    values=[\"UMAP_1\", \"UMAP_2\"], \n",
    "    aggfunc=np.mean)\n",
    "umap_centroids.head()"
   ]
  },
  {
   "cell_type": "code",
   "execution_count": null,
   "metadata": {},
   "outputs": [],
   "source": [
    "umap_bounds = pd.concat([\\\n",
    "        pd.Series(umap.iloc[:,:2].min(axis=0), name=\"min\"),\n",
    "        pd.Series(umap.iloc[:,:2].max(axis=0), name=\"max\")],\n",
    "    axis=1)\n",
    "padding = 0.05 * (umap_bounds[\"max\"] - umap_bounds[\"min\"])\n",
    "umap_bounds[\"min\"] = umap_bounds[\"min\"] - padding\n",
    "umap_bounds[\"max\"] = umap_bounds[\"max\"] + padding\n",
    "umap_bounds"
   ]
  },
  {
   "cell_type": "code",
   "execution_count": null,
   "metadata": {},
   "outputs": [],
   "source": [
    "cite_hive_anno[\"port\"].value_counts()"
   ]
  },
  {
   "cell_type": "code",
   "execution_count": null,
   "metadata": {},
   "outputs": [],
   "source": [
    "cite_hive_anno[\"tech\"] = \"10X\"\n",
    "mask_hive = cite_hive_anno[\"port\"].isin([\"EOS\", \"kit2\", \"ML1\", \"ML2\", \"kit1\", \"BMCP\"])\n",
    "cite_hive_anno.loc[mask_hive,\"tech\"] = \"HIVE\""
   ]
  },
  {
   "cell_type": "code",
   "execution_count": null,
   "metadata": {},
   "outputs": [],
   "source": [
    "colors_10x_hive = {\"10X\": \"#e0e0e0\", \"HIVE\": \"#cf4927\"}"
   ]
  },
  {
   "cell_type": "code",
   "execution_count": null,
   "metadata": {},
   "outputs": [],
   "source": [
    "plt.close(\"all\")\n",
    "\n",
    "fig, ax = plt.subplots(figsize=(12,12))\n",
    "\n",
    "# Filter to cells in titrated mix dataset\n",
    "filtered_cells = np.intersect1d(umap.index.values, cite_hive_anno.index.values)\n",
    "\n",
    "# Filter umap and order\n",
    "seg_anno = umap.loc[filtered_cells]\n",
    "seg_anno[\"Technology\"] = cite_hive_anno.loc[filtered_cells, \"tech\"].values\n",
    "seg_anno[\"tmp_order\"] = seg_anno[\"Technology\"].replace({\\\n",
    "    \"10X\": 1,\n",
    "    \"HIVE\": 2})\n",
    "seg_anno = seg_anno.loc[seg_anno.sample(seg_anno.shape[0]).index.values,:]\n",
    "# seg_anno = seg_anno.sort_values(by=\"tmp_order\")\n",
    "\n",
    "# Define color vector for plotting by port\n",
    "tmp_color_vector = seg_anno[\"Technology\"].replace(\\\n",
    "    colors_10x_hive).values\n",
    "\n",
    "ax.scatter(\\\n",
    "    seg_anno[\"UMAP_1\"].values,\n",
    "    seg_anno[\"UMAP_2\"].values,\n",
    "    c = tmp_color_vector,\n",
    "    alpha = 0.5,\n",
    "    s = 8,\n",
    "    edgecolors=None)\n",
    "ax.set_xlim(umap_bounds.iloc[0,:].values)\n",
    "ax.set_ylim(umap_bounds.iloc[1,:].values)\n",
    "ax.spines.right.set_visible(False)\n",
    "ax.spines.top.set_visible(False)\n",
    "ax.spines.bottom.set_visible(False)\n",
    "ax.spines.left.set_visible(False)\n",
    "ax.set_xticks([])\n",
    "ax.set_yticks([])\n",
    "\n",
    "plt.savefig(\"output/main_figure_1_plots/\"\\\n",
    "    \"integrated_umap_highlight_10x_vs_hive_shuffled.png\",\n",
    "    dpi=800)"
   ]
  },
  {
   "cell_type": "code",
   "execution_count": null,
   "metadata": {},
   "outputs": [],
   "source": [
    "plt.close(\"all\")\n",
    "\n",
    "fig, ax = plt.subplots(figsize=(12,12))\n",
    "\n",
    "# Filter to cells in titrated mix dataset\n",
    "filtered_cells = np.intersect1d(umap.index.values, cite_hive_anno.index.values)\n",
    "\n",
    "# Filter umap and order\n",
    "seg_anno = umap.loc[filtered_cells]\n",
    "seg_anno[\"Technology\"] = cite_hive_anno.loc[filtered_cells, \"tech\"].values\n",
    "seg_anno[\"tmp_order\"] = seg_anno[\"Technology\"].replace({\\\n",
    "    \"10X\": 1,\n",
    "    \"HIVE\": 2})\n",
    "seg_anno = seg_anno.loc[seg_anno.sample(seg_anno.shape[0]).index.values,:]\n",
    "seg_anno = seg_anno.sort_values(by=\"tmp_order\")\n",
    "\n",
    "# Define color vector for plotting by port\n",
    "tmp_color_vector = seg_anno[\"Technology\"].replace(\\\n",
    "    colors_10x_hive).values\n",
    "\n",
    "ax.scatter(\\\n",
    "    seg_anno[\"UMAP_1\"].values,\n",
    "    seg_anno[\"UMAP_2\"].values,\n",
    "    c = tmp_color_vector,\n",
    "    alpha = 0.5,\n",
    "    s = 8,\n",
    "    edgecolors=None)\n",
    "ax.set_xlim(umap_bounds.iloc[0,:].values)\n",
    "ax.set_ylim(umap_bounds.iloc[1,:].values)\n",
    "ax.spines.right.set_visible(False)\n",
    "ax.spines.top.set_visible(False)\n",
    "ax.spines.bottom.set_visible(False)\n",
    "ax.spines.left.set_visible(False)\n",
    "ax.set_xticks([])\n",
    "ax.set_yticks([])\n",
    "\n",
    "plt.savefig(\"output/main_figure_1_plots/\"\\\n",
    "    \"integrated_umap_highlight_10x_vs_hive_ordered.png\",\n",
    "    dpi=800)"
   ]
  },
  {
   "cell_type": "code",
   "execution_count": null,
   "metadata": {},
   "outputs": [],
   "source": [
    "plt.close(\"all\")\n",
    "\n",
    "fig, ax = plt.subplots(figsize=(12,12))\n",
    "\n",
    "# Filter to cells in titrated mix dataset\n",
    "filtered_cells = np.intersect1d(\\\n",
    "    umap.index.values, \n",
    "    cite_hive_anno.loc[\\\n",
    "        cite_hive_anno[\"port\"].isin([\\\n",
    "            \"AS_3CITE_Kitx2\", \n",
    "            \"AS_CITE_CD127\", \n",
    "            \"AS_3CITE_Kit\", \n",
    "            \"AS_CITE_HSC\", \n",
    "            \"AS_CITE_Multilin1\", \n",
    "            \"AS_CITE_Multilin2\"])].index.values)\n",
    "\n",
    "# Filter umap and order\n",
    "seg_anno = umap.loc[filtered_cells]\n",
    "seg_anno[\"cluster\"] = cite_hive_anno.loc[filtered_cells, \"cluster\"].values\n",
    "seg_anno = seg_anno.loc[seg_anno.sample(seg_anno.shape[0]).index.values,:]\n",
    "\n",
    "# Define color vector for plotting by port\n",
    "tmp_color_vector = seg_anno[\"cluster\"].replace(\\\n",
    "    r7_colors.to_dict()).values\n",
    "\n",
    "ax.scatter(\\\n",
    "    seg_anno[\"UMAP_1\"].values,\n",
    "    seg_anno[\"UMAP_2\"].values,\n",
    "    c = tmp_color_vector,\n",
    "    alpha = 0.25,\n",
    "    s = 8,\n",
    "    edgecolors=None)\n",
    "ax.set_xlim(umap_bounds.iloc[0,:].values)\n",
    "ax.set_ylim(umap_bounds.iloc[1,:].values)\n",
    "ax.spines.right.set_visible(False)\n",
    "ax.spines.top.set_visible(False)\n",
    "ax.spines.bottom.set_visible(False)\n",
    "ax.spines.left.set_visible(False)\n",
    "ax.set_xticks([])\n",
    "ax.set_yticks([])\n",
    "\n",
    "plt.savefig(\"output/main_figure_1_plots/\"\\\n",
    "    \"curated_cite_seq_with_r7_cluster_colors_umap.png\",\n",
    "    dpi=800)"
   ]
  },
  {
   "cell_type": "code",
   "execution_count": null,
   "metadata": {},
   "outputs": [],
   "source": [
    "seg_anno"
   ]
  },
  {
   "cell_type": "code",
   "execution_count": null,
   "metadata": {},
   "outputs": [],
   "source": []
  },
  {
   "cell_type": "code",
   "execution_count": null,
   "metadata": {},
   "outputs": [],
   "source": []
  },
  {
   "cell_type": "code",
   "execution_count": null,
   "metadata": {},
   "outputs": [],
   "source": [
    "plt.close(\"all\")\n",
    "\n",
    "fig, ax = plt.subplots(figsize=(12,12))\n",
    "\n",
    "# Filter to cells in titrated mix dataset\n",
    "filtered_cells = np.intersect1d(umap.index.values, cite_hive_anno.index.values)\n",
    "\n",
    "# Filter umap and order\n",
    "seg_anno = umap.loc[filtered_cells]\n",
    "seg_anno[\"Technology\"] = cite_hive_anno.loc[filtered_cells, \"tech\"].values\n",
    "idx_hive = seg_anno.loc[seg_anno[\"Technology\"] == \"HIVE\"].index.values\n",
    "seg_anno[\"10X_v_HIVE\"] = seg_anno[\"Technology\"].values\n",
    "seg_anno.loc[idx_hive, \"10X_v_HIVE\"] = cite_hive_anno.loc[\\\n",
    "    idx_hive, \"port\"].values\n",
    "seg_anno[\"10X_v_HIVE\"] = seg_anno[\"10X_v_HIVE\"].replace({\\\n",
    "    \"kit1\": \"Kit\",\n",
    "    \"kit2\": \"Kit\",\n",
    "    \"ML1\": \"MultiLin\",\n",
    "    \"ML2\": \"MultiLin\"})\n",
    "\n",
    "map_capture_to_color = {\\\n",
    "    \"10X\": \"#DADADA\",\n",
    "    \"MultiLin\": \"#FF00F0\",\n",
    "    \"BMCP\": \"#0070FF\",\n",
    "    \"Kit\": \"#00FF0F\",\n",
    "    \"EOS\": \"#FF8F00\"}\n",
    "\n",
    "\n",
    "seg_anno[\"tmp_order\"] = seg_anno[\"Technology\"].replace({\\\n",
    "    \"10X\": 1,\n",
    "    \"HIVE\": 2})\n",
    "\n",
    "\n",
    "\n",
    "seg_anno = seg_anno.sample(seg_anno.shape[0]).sort_values(by=\"tmp_order\")\n",
    "\n",
    "# Define color vector for plotting by port\n",
    "tmp_color_vector = seg_anno[\"10X_v_HIVE\"].replace(\\\n",
    "    map_capture_to_color).values\n",
    "\n",
    "ax.scatter(\\\n",
    "    seg_anno[\"UMAP_1\"].values,\n",
    "    seg_anno[\"UMAP_2\"].values,\n",
    "    c = tmp_color_vector,\n",
    "    alpha = 0.5,\n",
    "    s = 8,\n",
    "    edgecolors=None)\n",
    "ax.set_xlim(umap_bounds.iloc[0,:].values)\n",
    "ax.set_ylim(umap_bounds.iloc[1,:].values)\n",
    "ax.spines.right.set_visible(False)\n",
    "ax.spines.top.set_visible(False)\n",
    "ax.spines.bottom.set_visible(False)\n",
    "ax.spines.left.set_visible(False)\n",
    "ax.set_xticks([])\n",
    "ax.set_yticks([])\n",
    "\n",
    "plt.savefig(\"output/main_figure_1_plots/\"\\\n",
    "    \"curated_cite_seq_with_hive_vs_10x_comparison.png\",\n",
    "    dpi=600)"
   ]
  },
  {
   "cell_type": "code",
   "execution_count": null,
   "metadata": {},
   "outputs": [],
   "source": [
    "import matplotlib\n",
    "\n",
    "fig, ax = plt.subplots(figsize=(12, 1), layout='constrained')\n",
    "\n",
    "cmap = matplotlib.cm.cool\n",
    "norm = matplotlib.colors.Normalize(vmin=0, vmax=1)\n",
    "\n",
    "fig.colorbar(matplotlib.cm.ScalarMappable(norm=norm, cmap=\"jet\"),\n",
    "             cax=ax, orientation='horizontal', label='Relative Expression')\n",
    "\n",
    "plt.savefig(\"output/main_figure_1_plots/\"\\\n",
    "    \"jet_colorbar_for_relative_expression_0_1.pdf\")"
   ]
  }
 ],
 "metadata": {
  "kernelspec": {
   "display_name": "pyInfinityFlow",
   "language": "python",
   "name": "python3"
  },
  "language_info": {
   "codemirror_mode": {
    "name": "ipython",
    "version": 3
   },
   "file_extension": ".py",
   "mimetype": "text/x-python",
   "name": "python",
   "nbconvert_exporter": "python",
   "pygments_lexer": "ipython3",
   "version": "3.8.15"
  },
  "orig_nbformat": 4
 },
 "nbformat": 4,
 "nbformat_minor": 2
}
