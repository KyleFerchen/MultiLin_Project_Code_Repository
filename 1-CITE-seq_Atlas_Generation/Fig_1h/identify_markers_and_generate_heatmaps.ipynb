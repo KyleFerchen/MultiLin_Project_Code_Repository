{
 "cells": [
  {
   "cell_type": "code",
   "execution_count": null,
   "metadata": {},
   "outputs": [],
   "source": [
    "import os\n",
    "import pandas as pd\n",
    "import numpy as np\n",
    "import anndata\n",
    "import matplotlib.pyplot as plt\n",
    "import seaborn as sns\n",
    "plt.rcParams[\"font.family\"] = \"Arial\"\n",
    "import matplotlib\n",
    "matplotlib.rcParams['pdf.fonttype'] = 42\n",
    "from scipy.stats import zscore\n",
    "\n",
    "from pyInfinityFlow.InfinityFlow_Utilities import marker_finder\n",
    "from pyInfinityFlow.InfinityFlow_Utilities import pearson_corr_df_to_df\n",
    "from pyInfinityFlow.Plotting_Utilities import assign_rainbow_colors_to_groups\n",
    "from pyInfinityFlow.Plotting_Utilities import blue_black_yellow_cmap\n",
    "\n",
    "\n",
    "os.chdir(\"/Volumes/Kyle_T7_2/grimes_lab/analysis/\"\\\n",
    "    \"2024_03_02_redo_cluster_order_for_plots/\")  "
   ]
  },
  {
   "cell_type": "code",
   "execution_count": null,
   "metadata": {},
   "outputs": [],
   "source": [
    "# Prepare the CITE-seq data\n",
    "path_to_cite_data = \"/Volumes/Kyle_T7_2/grimes_lab/data/\"\\\n",
    "    \"2021_11_mouse_optimized_cite_seq/processed_files/\"\n",
    "\n",
    "cite_adata = anndata.read_h5ad(os.path.join(\\\n",
    "    path_to_cite_data,\n",
    "    \"cite_seq_adata_rna_combined_soupx_0_15_with_order_and_lvl4_annotations.h5ad\"))\n",
    "\n",
    "cite_adata.X = np.log2((10000 * (cite_adata.X.T / \\\n",
    "    cite_adata.X.sum(axis=1).T).T) + 1)\n"
   ]
  },
  {
   "cell_type": "code",
   "execution_count": null,
   "metadata": {},
   "outputs": [],
   "source": [
    "### Run markerFinder\n",
    "## Gene selection\n",
    "# Force genes to be above 0 log2 cptt in at least 25 cells\n",
    "sel_genes = pd.Series(\\\n",
    "    (np.asarray(cite_adata.X) > 0).sum(axis=0),\n",
    "    index=cite_adata.var.index.values)\n",
    "\n",
    "sel_genes = sel_genes[sel_genes > 25]\n",
    "\n",
    "# Exclude mitochondrial genes\n",
    "sel_genes = sel_genes.loc[\\\n",
    "    ~sel_genes.index.str.startswith(\"mt-\")]\n",
    "\n",
    "## markerFinder\n",
    "r_df, p_df = marker_finder(\\\n",
    "    pd.DataFrame(\\\n",
    "        cite_adata[:,sel_genes.index.values].X,\n",
    "        index = cite_adata.obs.index.values,\n",
    "        columns = sel_genes.index.values),\n",
    "    cite_adata.obs['lvl4'].values)"
   ]
  },
  {
   "cell_type": "code",
   "execution_count": null,
   "metadata": {},
   "outputs": [],
   "source": [
    "# Select top 25 (allow repeats) markers for each cluster\n",
    "marker_df = r_df.unstack().reset_index()\n",
    "marker_df.columns = [\"cluster\", \"gene\", \"r\"]\n",
    "marker_df = marker_df.sort_values(by=\"r\", ascending=False)\n",
    "saved_markers = []\n",
    "for tmp_cluster in r_df.columns.values:\n",
    "    seg_marker_df = marker_df.loc[marker_df[\"cluster\"] == tmp_cluster]\n",
    "    seg_marker_df = seg_marker_df.head(25)\n",
    "    seg_marker_df[\"rank\"] = list(range(1,26))\n",
    "    saved_markers.append(seg_marker_df)\n",
    "\n",
    "saved_markers = pd.concat(saved_markers)"
   ]
  },
  {
   "cell_type": "code",
   "execution_count": null,
   "metadata": {},
   "outputs": [],
   "source": [
    "# Read in cluster annotations to map cluster order\n",
    "path_cite_data = \"/Volumes/Kyle_T7_2/grimes_lab/data/\"\\\n",
    "    \"2021_11_mouse_optimized_cite_seq/\"\n",
    "cluster_anno = pd.read_csv(os.path.join(path_cite_data, \"processed_files/\"\\\n",
    "    \"cluster_anno_r6_r7_lvl4_and_order.csv\"))\n",
    "map_lvl4_to_order = pd.Series(\\\n",
    "    cluster_anno[\"Order\"].values,\n",
    "    index=cluster_anno[\"lvl4\"].values).dropna().astype(int)\n",
    "map_lvl4_to_color = pd.Series(\\\n",
    "    cluster_anno[\"Color\"].values,\n",
    "    index = cluster_anno[\"lvl4\"].values)\n",
    "map_lvl4_to_order"
   ]
  },
  {
   "cell_type": "code",
   "execution_count": null,
   "metadata": {},
   "outputs": [],
   "source": [
    "saved_markers[\"cluster_order\"] = saved_markers[\"cluster\"].replace(\\\n",
    "    map_lvl4_to_order.to_dict()).astype(int).values\n",
    "saved_markers = saved_markers.sort_values(by=[\"cluster_order\", \"r\"], \n",
    "    ascending=[True, False])\n",
    "saved_markers"
   ]
  },
  {
   "cell_type": "code",
   "execution_count": null,
   "metadata": {},
   "outputs": [],
   "source": [
    "# Calculate centroids\n",
    "unique_marker_genes = saved_markers[\"gene\"].unique()\n",
    "cite_centroids = pd.DataFrame(\\\n",
    "    cite_adata[:,unique_marker_genes].X.toarray(),\n",
    "    index = cite_adata.obs.index.values,\n",
    "    columns = unique_marker_genes)\n",
    "\n",
    "cite_centroids[\"CLUSTER\"] = cite_adata.obs[\"lvl4\"].values\n",
    "cite_centroids = pd.pivot_table(cite_centroids, index=\"CLUSTER\", \n",
    "    aggfunc=np.mean)\n",
    "cite_centroids"
   ]
  },
  {
   "cell_type": "code",
   "execution_count": null,
   "metadata": {},
   "outputs": [],
   "source": [
    "# Correlate individual cells to centroids\n",
    "c2c_rdf = pearson_corr_df_to_df(\\\n",
    "    pd.DataFrame(\\\n",
    "        cite_adata[:,unique_marker_genes].X.toarray(),\n",
    "        index = cite_adata.obs.index.values,\n",
    "        columns = unique_marker_genes).T,\n",
    "    cite_centroids[unique_marker_genes].T)"
   ]
  },
  {
   "cell_type": "code",
   "execution_count": null,
   "metadata": {},
   "outputs": [],
   "source": [
    "# Sample top 25 correlating cells for each cluster\n",
    "sampled_cells = []\n",
    "for tmp_cluster in map_lvl4_to_order.index.values:\n",
    "    seg_cells = cite_adata.obs.loc[\\\n",
    "        cite_adata.obs[\"lvl4\"] == tmp_cluster].copy()\n",
    "    tmp_rank_cells = c2c_rdf.loc[\\\n",
    "        seg_cells.index.values,\n",
    "        tmp_cluster].sort_values(ascending=False)\n",
    "    tmp_sel_cells = pd.DataFrame(tmp_rank_cells.head(25))\n",
    "    tmp_sel_cells.columns = ['r']\n",
    "    tmp_sel_cells[\"rank\"] = list(range(1,26))\n",
    "    tmp_sel_cells[\"cluster\"] = tmp_cluster\n",
    "    sampled_cells.append(tmp_sel_cells)\n",
    "\n",
    "sampled_cells = pd.concat(sampled_cells)\n",
    "sampled_cells[\"sample\"] = cite_adata.obs.loc[\\\n",
    "    sampled_cells.index.values, \n",
    "    \"sample\"].values\n",
    "map_sample_to_tick_name = {\\\n",
    "    \"AS_CITE_CD127\": \"CD127+\",\n",
    "    \"AS_CITE_HSC\": \"HSC/MPP\",\n",
    "    \"AS_CITE_Multilin1\": \"MultiLin\",\n",
    "    \"AS_CITE_Kit\": \"CD117+\",\n",
    "    \"AS_3CITE_Kit\": \"CD117+\",\n",
    "    \"AS_CITE_Multilin2\": \"MultiLin\",\n",
    "    \"AS_3CITE_Kitx2\": \"CD117+\"}\n",
    "map_tick_name_to_order = pd.Series({\\\n",
    "    \"HSC/MPP\": 1,\n",
    "    \"MultiLin\": 2,\n",
    "    \"CD127+\": 3,\n",
    "    \"CD117+\": 4}).sort_values()\n",
    "sampled_cells[\"tick_label\"] = sampled_cells[\"sample\"].replace(\\\n",
    "    map_sample_to_tick_name).values\n",
    "plot_tick_marks = pd.get_dummies(sampled_cells[\"tick_label\"]).loc[\\\n",
    "    sampled_cells.index.values, \n",
    "    map_tick_name_to_order.index.values].T\n",
    "sampled_cells"
   ]
  },
  {
   "cell_type": "code",
   "execution_count": null,
   "metadata": {},
   "outputs": [],
   "source": [
    "# Make RNA data to to plot dataframe\n",
    "rna_to_plot = pd.DataFrame(\\\n",
    "    cite_adata[\\\n",
    "        sampled_cells.index.values,\n",
    "        saved_markers[\"gene\"].values].X.toarray(),\n",
    "    index = sampled_cells.index.values,\n",
    "    columns = saved_markers[\"gene\"].values).T\n",
    "rna_to_plot = zscore(rna_to_plot, axis=1)\n",
    "rna_to_plot"
   ]
  },
  {
   "cell_type": "code",
   "execution_count": null,
   "metadata": {},
   "outputs": [],
   "source": [
    "cluster_colors = pd.DataFrame(sampled_cells[\"cluster\"].replace(map_lvl4_to_order.to_dict())).T\n",
    "cluster_colors"
   ]
  },
  {
   "cell_type": "code",
   "execution_count": null,
   "metadata": {},
   "outputs": [],
   "source": [
    "map_lvl4_to_color.dropna().values"
   ]
  },
  {
   "cell_type": "code",
   "execution_count": null,
   "metadata": {},
   "outputs": [],
   "source": [
    "# Read in the ADT values\n",
    "adt_data = pd.read_table(os.path.join(\\\n",
    "    path_cite_data, \n",
    "    \"processed_files/totalvi_denoised_adt_values_optimized_cite.txt\"),\n",
    "    index_col=0)\n",
    "def fix_adt_cell_names(tmp_cell):\n",
    "    tmp_cell = \"-\".join(tmp_cell.split(\"-\")[:-1])\n",
    "    tmp_barcode = tmp_cell.split(\"_\")[-1]\n",
    "    tmp_sample = \"_\".join(tmp_cell.split(\"_\")[:-1])\n",
    "    return(f\"{tmp_sample}.{tmp_barcode}\")\n",
    "\n",
    "adt_data.index = [fix_adt_cell_names(i) for i in adt_data.index.values]\n",
    "adt_features = [i for i in adt_data.columns.values if not i.endswith(\"Ctrl\")]"
   ]
  },
  {
   "cell_type": "code",
   "execution_count": null,
   "metadata": {},
   "outputs": [],
   "source": [
    "## markerFinder\n",
    "adt_r_df, adt_p_df = marker_finder(\\\n",
    "    adt_data.loc[sampled_cells.index.values,adt_features],\n",
    "    sampled_cells[\"cluster\"])"
   ]
  },
  {
   "cell_type": "code",
   "execution_count": null,
   "metadata": {},
   "outputs": [],
   "source": [
    "adt_markers = adt_r_df.unstack().reset_index()\n",
    "adt_markers.columns = [\"cluster\", \"marker\", \"r\"]\n",
    "adt_markers = adt_markers.loc[~adt_markers[\"cluster\"].isin([\\\n",
    "    \"HSC-Mac-2\", \"HSC-Mac-1\", \"Mac-Nr1h3\"]).values]\n",
    "adt_markers = adt_markers.sort_values(by=\"r\", ascending=False)\n",
    "adt_markers = adt_markers.loc[~adt_markers[\"marker\"].duplicated()]\n",
    "adt_markers[\"cluster_order\"] = adt_markers[\"cluster\"].replace(\\\n",
    "    map_lvl4_to_order).values\n",
    "adt_markers = adt_markers.sort_values(by=[\"cluster_order\", \"r\"], \n",
    "    ascending=[True, False])\n",
    "adt_markers"
   ]
  },
  {
   "cell_type": "code",
   "execution_count": null,
   "metadata": {},
   "outputs": [],
   "source": [
    "adt_to_plot = zscore(\\\n",
    "    adt_data.loc[\\\n",
    "        sampled_cells.index.values, \n",
    "        adt_markers[\"marker\"].values].T, \n",
    "    axis=1)"
   ]
  },
  {
   "cell_type": "code",
   "execution_count": null,
   "metadata": {},
   "outputs": [],
   "source": [
    "plt.close(\"all\")\n",
    "fig = plt.figure(constrained_layout=True, figsize=(19.2, 12))\n",
    "ax = fig.add_gridspec(140, 1)\n",
    "ax1 = fig.add_subplot(ax[:3, 0])\n",
    "ax2 = fig.add_subplot(ax[3:90, 0])\n",
    "ax3 = fig.add_subplot(ax[90:104, 0])\n",
    "ax4 = fig.add_subplot(ax[104:, 0])\n",
    "\n",
    "from matplotlib.colors import ListedColormap\n",
    "tmp_cmap = cmap = ListedColormap(map_lvl4_to_color.dropna().values)\n",
    "heat1 = sns.heatmap(\\\n",
    "    cluster_colors,\n",
    "    cmap = tmp_cmap,\n",
    "    xticklabels=False,\n",
    "    yticklabels=False,\n",
    "    cbar=False,\n",
    "    ax=ax1)\n",
    "\n",
    "# RNA data to plot\n",
    "heat2 = sns.heatmap(\\\n",
    "    rna_to_plot.fillna(0), \n",
    "    vmin=-3, \n",
    "    vmax=3, \n",
    "    cmap=blue_black_yellow_cmap,\n",
    "    xticklabels=False,\n",
    "    yticklabels=False,\n",
    "    cbar=False,\n",
    "    rasterized=True,\n",
    "    ax=ax2)\n",
    "\n",
    "# Sample tick mark plot\n",
    "heat3 = sns.heatmap(plot_tick_marks,\n",
    "    cmap=\"Greys\",\n",
    "    yticklabels=True,\n",
    "    xticklabels=False,\n",
    "    cbar=False,\n",
    "    rasterized=True,\n",
    "    ax=ax3)\n",
    "\n",
    "icefire_cmap = sns.color_palette(\"icefire\", as_cmap=True)\n",
    "# ADT data to plot\n",
    "heat4 = sns.heatmap(\\\n",
    "    adt_to_plot.fillna(0), \n",
    "    vmin=-3, \n",
    "    vmax=3, \n",
    "    cmap=icefire_cmap,\n",
    "    xticklabels=False,\n",
    "    yticklabels=False,\n",
    "    cbar=False,\n",
    "    rasterized=True,\n",
    "    ax=ax4)\n",
    "\n",
    "plt.savefig(\"output/rna_tick_adt_heatmap_combo_plot.pdf\", dpi=600)"
   ]
  },
  {
   "cell_type": "code",
   "execution_count": null,
   "metadata": {},
   "outputs": [],
   "source": [
    "adt_to_plot.fillna(0).to_csv(\"output/rna_tick_adt_heatmap_combo_plot_adt_values.csv\",\n",
    "    index=True, index_label=\"UID\")\n",
    "rna_to_plot.fillna(0).to_csv(\"output/rna_tick_adt_heatmap_combo_plot_rna_values.csv\",\n",
    "    index=True, index_label=\"UID\")\n",
    "\n",
    "adt_markers.to_csv(\"output/rna_tick_adt_heatmap_combo_plot_adt_markers_ordered.csv\",\n",
    "    index=False)\n",
    "saved_markers.to_csv(\"output/rna_tick_adt_heatmap_combo_plot_rna_markers_ordered.csv\",\n",
    "    index=False)"
   ]
  },
  {
   "cell_type": "code",
   "execution_count": null,
   "metadata": {},
   "outputs": [],
   "source": [
    "from pyInfinityFlow.Plotting_Utilities import blue_black_yellow_cmap\n",
    "\n",
    "fig, ax = plt.subplots(figsize=(12, 1), layout='constrained')\n",
    "\n",
    "cmap = matplotlib.cm.cool\n",
    "norm = matplotlib.colors.Normalize(vmin=-3, vmax=3)\n",
    "\n",
    "fig.colorbar(matplotlib.cm.ScalarMappable(norm=norm, cmap=blue_black_yellow_cmap),\n",
    "             cax=ax, orientation='horizontal', label='Gene Expression')\n",
    "\n",
    "plt.savefig(\"output/rna_heatmap_colorbar.pdf\")"
   ]
  },
  {
   "cell_type": "code",
   "execution_count": null,
   "metadata": {},
   "outputs": [],
   "source": [
    "# fig, ax = plt.subplots(figsize=(12, 1), layout='constrained')\n",
    "\n",
    "# plasma_cmap = matplotlib.cm.plasma\n",
    "# norm = matplotlib.colors.Normalize(vmin=-3, vmax=3)\n",
    "\n",
    "# fig.colorbar(matplotlib.cm.ScalarMappable(norm=norm, cmap=plasma_cmap),\n",
    "#              cax=ax, orientation='horizontal', label='ADT Expression')\n",
    "\n",
    "# plt.savefig(\"output/adt_heatmap_colorbar.pdf\")"
   ]
  },
  {
   "cell_type": "code",
   "execution_count": null,
   "metadata": {},
   "outputs": [],
   "source": [
    "icefire_cmap = sns.color_palette(\"icefire\", as_cmap=True)\n",
    "\n",
    "\n",
    "\n",
    "norm = matplotlib.colors.Normalize(vmin=-3, vmax=3)\n",
    "fig, ax = plt.subplots(figsize=(12, 1), layout='constrained')\n",
    "fig.colorbar(matplotlib.cm.ScalarMappable(norm=norm, cmap=icefire_cmap),\n",
    "             cax=ax, orientation='horizontal', label='ADT Expression')\n",
    "\n",
    "plt.savefig(\"output/adt_heatmap_colorbar.pdf\")"
   ]
  }
 ],
 "metadata": {
  "kernelspec": {
   "display_name": "pyInfinityFlow",
   "language": "python",
   "name": "python3"
  },
  "language_info": {
   "codemirror_mode": {
    "name": "ipython",
    "version": 3
   },
   "file_extension": ".py",
   "mimetype": "text/x-python",
   "name": "python",
   "nbconvert_exporter": "python",
   "pygments_lexer": "ipython3",
   "version": "3.8.15"
  }
 },
 "nbformat": 4,
 "nbformat_minor": 2
}
