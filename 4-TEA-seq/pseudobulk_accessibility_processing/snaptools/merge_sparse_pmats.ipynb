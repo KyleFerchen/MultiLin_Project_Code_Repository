{
 "cells": [
  {
   "cell_type": "code",
   "execution_count": 1,
   "metadata": {},
   "outputs": [],
   "source": [
    "import os\n",
    "import pandas as pd\n",
    "import numpy as np\n",
    "from scipy.io import mmread\n",
    "from scipy.sparse import vstack\n",
    "from scipy.io import mmwrite\n",
    "\n",
    "os.chdir(\"/Volumes/salomonis2/LabFiles/Kyle/Analysis/2023_06_12_tea_seq_atac_processing/\")"
   ]
  },
  {
   "cell_type": "code",
   "execution_count": 2,
   "metadata": {},
   "outputs": [],
   "source": [
    "# Helper functions\n",
    "def helper_load_sparse_mtx_from_dir(input_dir, exp_name):\n",
    "    print(\"Reading sparse matrix for {}...\".format(exp_name))\n",
    "    tmp_sparse_mtx = mmread(os.path.join(input_dir, \"pmat.mtx\"))\n",
    "    tmp_barcodes = pd.read_table(os.path.join(input_dir, \"barcodes.tsv\"), header=None).iloc[:,0].values\n",
    "    tmp_peaks = pd.read_table(os.path.join(input_dir, \"peaks.tsv\"), header=None)\n",
    "    print(\"Output is dictionary with the following keys: 'sparse_mtx', 'barcodes', 'peaks'\")\n",
    "    return({\\\n",
    "        \"sparse_mtx\": tmp_sparse_mtx,\n",
    "        \"barcodes\": [exp_name + \":\" + item for item in tmp_barcodes],\n",
    "        \"peaks\": tmp_peaks})"
   ]
  },
  {
   "cell_type": "code",
   "execution_count": 3,
   "metadata": {},
   "outputs": [
    {
     "name": "stdout",
     "output_type": "stream",
     "text": [
      "Reading sparse matrix for M1...\n",
      "Output is dictionary with the following keys: 'sparse_mtx', 'barcodes', 'peaks'\n",
      "Reading sparse matrix for M2...\n",
      "Output is dictionary with the following keys: 'sparse_mtx', 'barcodes', 'peaks'\n",
      "Reading sparse matrix for H1...\n",
      "Output is dictionary with the following keys: 'sparse_mtx', 'barcodes', 'peaks'\n",
      "Reading sparse matrix for H2...\n",
      "Output is dictionary with the following keys: 'sparse_mtx', 'barcodes', 'peaks'\n"
     ]
    }
   ],
   "source": [
    "path_pmat_dirs = \"output/tea_r7_pmat_macs2_p_0_001_tss_added/\"\n",
    "\n",
    "m1 = helper_load_sparse_mtx_from_dir(\\\n",
    "    os.path.join(path_pmat_dirs, \"M1\"),\n",
    "    exp_name=\"M1\")\n",
    "\n",
    "m2 = helper_load_sparse_mtx_from_dir(\\\n",
    "    os.path.join(path_pmat_dirs, \"M2\"),\n",
    "    exp_name=\"M2\")\n",
    "\n",
    "h1 = helper_load_sparse_mtx_from_dir(\\\n",
    "    os.path.join(path_pmat_dirs, \"H1\"),\n",
    "    exp_name=\"H1\")\n",
    "\n",
    "h2 = helper_load_sparse_mtx_from_dir(\\\n",
    "    os.path.join(path_pmat_dirs, \"H2\"),\n",
    "    exp_name=\"H2\")\n",
    "\n"
   ]
  },
  {
   "cell_type": "code",
   "execution_count": 4,
   "metadata": {},
   "outputs": [
    {
     "name": "stdout",
     "output_type": "stream",
     "text": [
      "Shape of M1: (20000, 757540)\n",
      "Shape of M2: (20000, 757540)\n",
      "Shape of H1: (12198, 757540)\n",
      "Shape of H2: (11754, 757540)\n"
     ]
    }
   ],
   "source": [
    "print(\"Shape of M1: {}\".format(m1[\"sparse_mtx\"].shape))\n",
    "print(\"Shape of M2: {}\".format(m2[\"sparse_mtx\"].shape))\n",
    "print(\"Shape of H1: {}\".format(h1[\"sparse_mtx\"].shape))\n",
    "print(\"Shape of H2: {}\".format(h2[\"sparse_mtx\"].shape))"
   ]
  },
  {
   "cell_type": "code",
   "execution_count": 5,
   "metadata": {},
   "outputs": [],
   "source": [
    "# Combine sparse matrices\n",
    "combined = vstack([\\\n",
    "    m1[\"sparse_mtx\"], \n",
    "    m2[\"sparse_mtx\"], \n",
    "    h1[\"sparse_mtx\"], \n",
    "    h2[\"sparse_mtx\"]])\n",
    "combined_barcodes = pd.Series(\\\n",
    "    list(m1[\"barcodes\"]) + \\\n",
    "    list(m2[\"barcodes\"]) + \\\n",
    "    list(h1[\"barcodes\"]) + \\\n",
    "    list(h2[\"barcodes\"]))"
   ]
  },
  {
   "cell_type": "code",
   "execution_count": 6,
   "metadata": {},
   "outputs": [],
   "source": [
    "# Write out the output files\n",
    "path_output = \"output/tea_r7_pmat_macs2_p_0_001_tss_added/combined/\"\n",
    "if not os.path.isdir(path_output):\n",
    "    os.mkdir(path_output)\n",
    "\n",
    "# Barcodes\n",
    "combined_barcodes.to_csv(\\\n",
    "    os.path.join(path_output, \"barcodes.tsv\"), \n",
    "    sep=\"\\t\", header=False, index=False)\n",
    "# Peaks\n",
    "m1[\"peaks\"].to_csv(\\\n",
    "    os.path.join(path_output, \"peaks.tsv\"), \n",
    "    sep=\"\\t\", header=False, index=False)\n",
    "# PMAT MTX\n",
    "mmwrite(os.path.join(path_output, \"pmat.mtx\"), combined)"
   ]
  }
 ],
 "metadata": {
  "kernelspec": {
   "display_name": "pyInfinityFlow",
   "language": "python",
   "name": "python3"
  },
  "language_info": {
   "codemirror_mode": {
    "name": "ipython",
    "version": 3
   },
   "file_extension": ".py",
   "mimetype": "text/x-python",
   "name": "python",
   "nbconvert_exporter": "python",
   "pygments_lexer": "ipython3",
   "version": "3.8.16"
  },
  "orig_nbformat": 4
 },
 "nbformat": 4,
 "nbformat_minor": 2
}
