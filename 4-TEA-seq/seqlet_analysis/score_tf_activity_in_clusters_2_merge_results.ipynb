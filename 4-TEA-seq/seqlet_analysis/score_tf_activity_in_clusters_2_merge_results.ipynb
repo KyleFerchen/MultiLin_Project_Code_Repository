{
 "cells": [
  {
   "cell_type": "code",
   "execution_count": 1,
   "metadata": {},
   "outputs": [
    {
     "name": "stderr",
     "output_type": "stream",
     "text": [
      "/Users/kyleferchen/opt/anaconda3/envs/pyInfinityFlow/lib/python3.8/site-packages/tqdm/auto.py:22: TqdmWarning: IProgress not found. Please update jupyter and ipywidgets. See https://ipywidgets.readthedocs.io/en/stable/user_install.html\n",
      "  from .autonotebook import tqdm as notebook_tqdm\n"
     ]
    }
   ],
   "source": [
    "import os\n",
    "import pandas as pd\n",
    "import numpy as np\n",
    "import scanpy as sc\n",
    "import re\n",
    "from gimmemotifs.motif import Motif,read_motifs\n",
    "\n",
    "from pyInfinityFlow.InfinityFlow_Utilities import pearson_corr_df_to_df\n",
    "\n",
    "import seaborn as sns\n",
    "import matplotlib.pyplot as plt\n",
    "plt.rcParams[\"font.family\"] = \"Arial\"\n",
    "import matplotlib\n",
    "matplotlib.rcParams['pdf.fonttype'] = 42\n",
    "\n",
    "os.chdir(\"/Volumes/Kyle_T7_2/grimes_lab/analysis/2023_06_12_tea_seq_atac_processing/\")"
   ]
  },
  {
   "cell_type": "code",
   "execution_count": 2,
   "metadata": {},
   "outputs": [
    {
     "data": {
      "text/plain": [
       "['{tmp_cluster}_conns.fea']"
      ]
     },
     "execution_count": 2,
     "metadata": {},
     "output_type": "execute_result"
    }
   ],
   "source": [
    "# Read in the TF activities\n",
    "path_to_cluster_activities = \"output/GRN/all_genes/cluster_specific_tf_links/\"\n",
    "\n",
    "\"{tmp_cluster}_conns.fea\"\n",
    "\n",
    "os.listdir(path_to_cluster_activities)"
   ]
  }
 ],
 "metadata": {
  "kernelspec": {
   "display_name": "pyInfinityFlow",
   "language": "python",
   "name": "python3"
  },
  "language_info": {
   "codemirror_mode": {
    "name": "ipython",
    "version": 3
   },
   "file_extension": ".py",
   "mimetype": "text/x-python",
   "name": "python",
   "nbconvert_exporter": "python",
   "pygments_lexer": "ipython3",
   "version": "3.8.15"
  }
 },
 "nbformat": 4,
 "nbformat_minor": 2
}
