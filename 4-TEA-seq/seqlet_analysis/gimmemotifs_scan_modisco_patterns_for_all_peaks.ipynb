{
 "cells": [
  {
   "cell_type": "code",
   "execution_count": 1,
   "metadata": {},
   "outputs": [
    {
     "name": "stderr",
     "output_type": "stream",
     "text": [
      "INFO:matplotlib.font_manager:Failed to extract font properties from /usr/share/fonts/truetype/noto/NotoColorEmoji.ttf: In FT2Font: Can not load face (unknown file format; error code 0x2)\n"
     ]
    }
   ],
   "source": [
    "import os\n",
    "import pandas as pd\n",
    "import numpy as np\n",
    "import re\n",
    "seq_re = re.compile(r'(.+):(.+)-(.+)')\n",
    "from gimmemotifs.motif import Motif,read_motifs\n",
    "\n",
    "os.chdir(\"/media/kyle_storage/kyle_ferchen/grimes_lab_main/analysis/\"\\\n",
    "    \"2023_06_12_tea_seq_atac_processing/\")"
   ]
  },
  {
   "cell_type": "code",
   "execution_count": 2,
   "metadata": {},
   "outputs": [],
   "source": [
    "# Define a path for the genome fasta file\n",
    "path_to_mm10 = \"/media/kyle_storage/kyle_ferchen/grimes_lab_main/reference/genomes/mm10/mm10.fa\"\n",
    "# Read in the mm10 fasta indexing file\n",
    "fai_mm10 = pd.read_table(path_to_mm10 + \".fai\", header=None)\n",
    "fai_mm10.columns = [\"NAME\", \"LENGTH\", \"OFFSET\", \"LINEBASES\", \"LINEWIDTH\"]\n",
    "fai_mm10 = fai_mm10.set_index(\"NAME\")"
   ]
  },
  {
   "cell_type": "code",
   "execution_count": 3,
   "metadata": {},
   "outputs": [],
   "source": [
    "### Helper functions\n",
    "\n",
    "# Define helper function to extract sequences from fasta file\n",
    "def read_seq_from_fasta(input_bed, fai_annotation, fasta):\n",
    "    bed_df = input_bed.copy()\n",
    "    # Correct start values for 0 index\n",
    "    bed_df.iloc[:,1] = bed_df.iloc[:,1].values - 1\n",
    "    # Define fai annotation based parameters for reading from fasta file\n",
    "    bed_df[\"offset\"] = [fai_annotation.loc[i, \"OFFSET\"] for i in \\\n",
    "        bed_df.iloc[:,0].values]\n",
    "    bed_df[\"lw\"] = [fai_annotation.loc[i, \"LINEWIDTH\"] for i in \\\n",
    "        bed_df.iloc[:,0].values]\n",
    "    bed_df[\"lb\"] = [fai_annotation.loc[i, \"LINEBASES\"] for i in \\\n",
    "        bed_df.iloc[:,0].values]\n",
    "    # Define positions in file to which to seek\n",
    "    bed_df[\"len_new_line\"] = bed_df[\"lw\"] - bed_df[\"lb\"]\n",
    "    bed_df[\"lines_to_start\"] = bed_df.iloc[:,1].values // bed_df[\"lb\"].values\n",
    "    bed_df[\"char_to_start\"] = bed_df[\"lines_to_start\"] * bed_df[\"lw\"]\n",
    "    bed_df[\"bases_before_start\"] = bed_df.iloc[:,1].values % bed_df[\"lb\"].values\n",
    "    bed_df[\"bases_to_read\"] = bed_df.iloc[:,2] - bed_df.iloc[:,1]\n",
    "    bed_df[\"bases_to_next_line\"] = bed_df[\"lb\"] - bed_df[\"bases_before_start\"]\n",
    "    # Check bases to next line\n",
    "    mask_need_next_line = (bed_df[\"bases_to_read\"] < \\\n",
    "        bed_df[\"bases_to_next_line\"]).values\n",
    "    # Define number of char values to read\n",
    "    bed_df[\"char_to_read\"] = 0\n",
    "    if mask_need_next_line.sum() > 0:\n",
    "        bed_df.loc[mask_need_next_line, \"char_to_read\"] = bed_df.loc[\\\n",
    "            mask_need_next_line, \"bases_to_read\"]\n",
    "    if (~mask_need_next_line).sum() > 0:\n",
    "        new_lines_to_read = 1 + ((\\\n",
    "            bed_df.loc[~mask_need_next_line, \"bases_to_read\"].values - \\\n",
    "            bed_df.loc[~mask_need_next_line, \"bases_to_next_line\"].values) // \\\n",
    "                bed_df.loc[~mask_need_next_line, \"lb\"].values)\n",
    "        bed_df.loc[~mask_need_next_line, \"char_to_read\"] = (\\\n",
    "            bed_df.loc[~mask_need_next_line, \"len_new_line\"].values * \\\n",
    "                new_lines_to_read) + \\\n",
    "                    bed_df.loc[~mask_need_next_line, \"bases_to_read\"].values\n",
    "\n",
    "    # Filter df to only the columns needed (clear memory)\n",
    "    bed_df = bed_df[[\\\n",
    "        \"offset\", \"char_to_start\", \"bases_before_start\", \"char_to_read\"]]\n",
    "    # Read in the sequence from the fasta\n",
    "    output_seqs = []\n",
    "    with open(fasta, \"r\") as f:\n",
    "        for i, row in bed_df.iterrows():\n",
    "            f.seek(\\\n",
    "                row[\"offset\"] + \\\n",
    "                row[\"char_to_start\"] + \\\n",
    "                row[\"bases_before_start\"])\n",
    "            output_seqs.append(f.read(row[\"char_to_read\"]).replace(\"\\n\", \"\"))\n",
    "    \n",
    "    return(output_seqs)\n",
    "\n",
    "def get_reverse_complement(seq):\n",
    "    # Define replacements\n",
    "    dict_replace = {\\\n",
    "        \"A\": \"T\", \n",
    "        \"C\": \"G\",\n",
    "        \"G\": \"C\",\n",
    "        \"T\": \"A\",\n",
    "        \"a\": \"t\",\n",
    "        \"c\": \"g\",\n",
    "        \"g\": \"c\",\n",
    "        \"t\": \"a\",\n",
    "        \"n\": \"n\",\n",
    "        \"N\": \"N\"}\n",
    "    # Replace and return\n",
    "    return(\"\".join([dict_replace[i] for i in seq[::-1]]))"
   ]
  },
  {
   "cell_type": "code",
   "execution_count": 4,
   "metadata": {},
   "outputs": [],
   "source": [
    "# Read in the motifs < 3s\n",
    "path_modisco_motifs = \"/media/kyle_storage/kyle_ferchen/grimes_lab_main/\"\\\n",
    "    \"analysis/2023_06_12_tea_seq_atac_processing/output/chrombpnet/\"\\\n",
    "    \"modisco_merged_results/fold_0/modisco_fold_0_merged_ppm.motif\"\n",
    "modisco_motifs = read_motifs(path_modisco_motifs)\n",
    "modisco_names = np.array([str(x) for x in modisco_motifs])\n",
    "cluster_naming_re = re.compile(r'modisco_fold_0_(.+)_modisco')\n",
    "def get_motif_names_from_cispb_names(tmp_name):\n",
    "    cluster_name, tmp_remainder = tmp_name.split(\"__\")\n",
    "    cluster_name = cluster_naming_re.findall(cluster_name)[0]\n",
    "    pattern_name = \"_\".join(tmp_remainder.split(\"_\")[:-1])\n",
    "    return(f\"{cluster_name}__{pattern_name}\")\n",
    "\n",
    "modisco_pattern_names = np.array([get_motif_names_from_cispb_names(item) for \\\n",
    "    item in modisco_names])\n",
    "\n",
    "modisco_motif_sizes = np.array([item._ppm.shape[0] for item in modisco_motifs])"
   ]
  },
  {
   "cell_type": "code",
   "execution_count": 5,
   "metadata": {},
   "outputs": [
    {
     "data": {
      "text/html": [
       "<div>\n",
       "<style scoped>\n",
       "    .dataframe tbody tr th:only-of-type {\n",
       "        vertical-align: middle;\n",
       "    }\n",
       "\n",
       "    .dataframe tbody tr th {\n",
       "        vertical-align: top;\n",
       "    }\n",
       "\n",
       "    .dataframe thead th {\n",
       "        text-align: right;\n",
       "    }\n",
       "</style>\n",
       "<table border=\"1\" class=\"dataframe\">\n",
       "  <thead>\n",
       "    <tr style=\"text-align: right;\">\n",
       "      <th></th>\n",
       "      <th>cluster</th>\n",
       "      <th>pattern</th>\n",
       "    </tr>\n",
       "  </thead>\n",
       "  <tbody>\n",
       "    <tr>\n",
       "      <th>0</th>\n",
       "      <td>MEP</td>\n",
       "      <td>MEP__pos_pattern_0</td>\n",
       "    </tr>\n",
       "    <tr>\n",
       "      <th>1</th>\n",
       "      <td>MEP</td>\n",
       "      <td>MEP__pos_pattern_1</td>\n",
       "    </tr>\n",
       "    <tr>\n",
       "      <th>2</th>\n",
       "      <td>MEP</td>\n",
       "      <td>MEP__pos_pattern_10</td>\n",
       "    </tr>\n",
       "    <tr>\n",
       "      <th>3</th>\n",
       "      <td>MEP</td>\n",
       "      <td>MEP__pos_pattern_11</td>\n",
       "    </tr>\n",
       "    <tr>\n",
       "      <th>4</th>\n",
       "      <td>MEP</td>\n",
       "      <td>MEP__pos_pattern_12</td>\n",
       "    </tr>\n",
       "    <tr>\n",
       "      <th>...</th>\n",
       "      <td>...</td>\n",
       "      <td>...</td>\n",
       "    </tr>\n",
       "    <tr>\n",
       "      <th>1142</th>\n",
       "      <td>ST_HSC</td>\n",
       "      <td>ST_HSC__pos_pattern_9</td>\n",
       "    </tr>\n",
       "    <tr>\n",
       "      <th>1143</th>\n",
       "      <td>ST_HSC</td>\n",
       "      <td>ST_HSC__neg_pattern_0</td>\n",
       "    </tr>\n",
       "    <tr>\n",
       "      <th>1144</th>\n",
       "      <td>ST_HSC</td>\n",
       "      <td>ST_HSC__neg_pattern_1</td>\n",
       "    </tr>\n",
       "    <tr>\n",
       "      <th>1145</th>\n",
       "      <td>ST_HSC</td>\n",
       "      <td>ST_HSC__neg_pattern_2</td>\n",
       "    </tr>\n",
       "    <tr>\n",
       "      <th>1146</th>\n",
       "      <td>ST_HSC</td>\n",
       "      <td>ST_HSC__neg_pattern_3</td>\n",
       "    </tr>\n",
       "  </tbody>\n",
       "</table>\n",
       "<p>1147 rows × 2 columns</p>\n",
       "</div>"
      ],
      "text/plain": [
       "     cluster                pattern\n",
       "0        MEP     MEP__pos_pattern_0\n",
       "1        MEP     MEP__pos_pattern_1\n",
       "2        MEP    MEP__pos_pattern_10\n",
       "3        MEP    MEP__pos_pattern_11\n",
       "4        MEP    MEP__pos_pattern_12\n",
       "...      ...                    ...\n",
       "1142  ST_HSC  ST_HSC__pos_pattern_9\n",
       "1143  ST_HSC  ST_HSC__neg_pattern_0\n",
       "1144  ST_HSC  ST_HSC__neg_pattern_1\n",
       "1145  ST_HSC  ST_HSC__neg_pattern_2\n",
       "1146  ST_HSC  ST_HSC__neg_pattern_3\n",
       "\n",
       "[1147 rows x 2 columns]"
      ]
     },
     "execution_count": 5,
     "metadata": {},
     "output_type": "execute_result"
    }
   ],
   "source": [
    "# Build an annotation table to segregate modisco hit results\n",
    "pattern_anno = pd.DataFrame({\\\n",
    "    \"cluster\": [item.split(\"__\")[0] for item in modisco_pattern_names],\n",
    "    \"pattern\": modisco_pattern_names})\n",
    "\n",
    "pattern_anno"
   ]
  },
  {
   "cell_type": "code",
   "execution_count": null,
   "metadata": {},
   "outputs": [],
   "source": [
    "# Read in the peaks for which to scan\n",
    "# path_peak_nominations = \"output/\"\\\n",
    "#     \"correlate_tea_atac_to_cite_rna_across_r7_clusters/\"\\\n",
    "#     \"peak_to_gene_correlation_within_tads/sig_conns_df.csv\"\n",
    "\n",
    "# !!! THIS HAS TO BE EXACTLY THE SAME PEAKS FILE USED TO CALCULATE THE CONTRIBUTION\n",
    "# !!! SCORES WITH CHROMBPNET\n",
    "path_peak_nominations = (\"/media/kyle_storage/kyle_ferchen/grimes_lab_main/analysis/\"\n",
    "    \"2024_08_05_help_sid_with_seqlet_scanning_and_modisco_overlap/input/\"\n",
    "    \"Intermediate_Mono-1_peaks_no_blacklist.bed\")\n",
    "\n",
    "PEAK_WIDTH = 500\n",
    "\n",
    "path_peak_nominations = \"/media/kyle_storage/kyle_ferchen/grimes_lab_main/analysis/2024_08_05_help_sid_with_seqlet_scanning_and_modisco_overlap/input/Intermediate_Mono-1_.interpreted_regions.bed\"\n",
    "\n",
    "peaks = pd.read_csv(path_peak_nominations,sep=\"\\t\",header=None)\n",
    "peaks.columns = [\"chr\", \"start\", \"end\", \"name\", \"score\", \"strand\", \"score2\", \"score3\", \"score4\", \"offset\"]\n",
    "peaks[\"start\"] = peaks[\"start\"] + peaks[\"offset\"] - (round(PEAK_WIDTH/2))\n",
    "peaks[\"end\"] = peaks[\"start\"] + PEAK_WIDTH\n",
    "peaks['name'] = peaks.apply(lambda row: f\"{row['chr']}:{row['start']}-{row['end']}\", axis=1)\n",
    "peaks"
   ]
  },
  {
   "cell_type": "code",
   "execution_count": 6,
   "metadata": {},
   "outputs": [
    {
     "data": {
      "text/html": [
       "<div>\n",
       "<style scoped>\n",
       "    .dataframe tbody tr th:only-of-type {\n",
       "        vertical-align: middle;\n",
       "    }\n",
       "\n",
       "    .dataframe tbody tr th {\n",
       "        vertical-align: top;\n",
       "    }\n",
       "\n",
       "    .dataframe thead th {\n",
       "        text-align: right;\n",
       "    }\n",
       "</style>\n",
       "<table border=\"1\" class=\"dataframe\">\n",
       "  <thead>\n",
       "    <tr style=\"text-align: right;\">\n",
       "      <th></th>\n",
       "      <th>name</th>\n",
       "      <th>chr</th>\n",
       "      <th>start</th>\n",
       "      <th>end</th>\n",
       "    </tr>\n",
       "  </thead>\n",
       "  <tbody>\n",
       "    <tr>\n",
       "      <th>0</th>\n",
       "      <td>chr1:4456181-4457181</td>\n",
       "      <td>chr1</td>\n",
       "      <td>4456181</td>\n",
       "      <td>4457181</td>\n",
       "    </tr>\n",
       "    <tr>\n",
       "      <th>1</th>\n",
       "      <td>chr1:4540111-4541111</td>\n",
       "      <td>chr1</td>\n",
       "      <td>4540111</td>\n",
       "      <td>4541111</td>\n",
       "    </tr>\n",
       "    <tr>\n",
       "      <th>2</th>\n",
       "      <td>chr1:4614190-4615190</td>\n",
       "      <td>chr1</td>\n",
       "      <td>4614190</td>\n",
       "      <td>4615190</td>\n",
       "    </tr>\n",
       "    <tr>\n",
       "      <th>3</th>\n",
       "      <td>chr1:4615468-4616468</td>\n",
       "      <td>chr1</td>\n",
       "      <td>4615468</td>\n",
       "      <td>4616468</td>\n",
       "    </tr>\n",
       "    <tr>\n",
       "      <th>4</th>\n",
       "      <td>chr1:4621593-4622593</td>\n",
       "      <td>chr1</td>\n",
       "      <td>4621593</td>\n",
       "      <td>4622593</td>\n",
       "    </tr>\n",
       "    <tr>\n",
       "      <th>...</th>\n",
       "      <td>...</td>\n",
       "      <td>...</td>\n",
       "      <td>...</td>\n",
       "      <td>...</td>\n",
       "    </tr>\n",
       "    <tr>\n",
       "      <th>116373</th>\n",
       "      <td>chrX:169263066-169264066</td>\n",
       "      <td>chrX</td>\n",
       "      <td>169263066</td>\n",
       "      <td>169264066</td>\n",
       "    </tr>\n",
       "    <tr>\n",
       "      <th>116374</th>\n",
       "      <td>chrX:169266871-169267871</td>\n",
       "      <td>chrX</td>\n",
       "      <td>169266871</td>\n",
       "      <td>169267871</td>\n",
       "    </tr>\n",
       "    <tr>\n",
       "      <th>116375</th>\n",
       "      <td>chrX:169299283-169300283</td>\n",
       "      <td>chrX</td>\n",
       "      <td>169299283</td>\n",
       "      <td>169300283</td>\n",
       "    </tr>\n",
       "    <tr>\n",
       "      <th>116376</th>\n",
       "      <td>chrX:169303654-169304654</td>\n",
       "      <td>chrX</td>\n",
       "      <td>169303654</td>\n",
       "      <td>169304654</td>\n",
       "    </tr>\n",
       "    <tr>\n",
       "      <th>116377</th>\n",
       "      <td>chrX:169331986-169332986</td>\n",
       "      <td>chrX</td>\n",
       "      <td>169331986</td>\n",
       "      <td>169332986</td>\n",
       "    </tr>\n",
       "  </tbody>\n",
       "</table>\n",
       "<p>116378 rows × 4 columns</p>\n",
       "</div>"
      ],
      "text/plain": [
       "                            name   chr      start        end\n",
       "0           chr1:4456181-4457181  chr1    4456181    4457181\n",
       "1           chr1:4540111-4541111  chr1    4540111    4541111\n",
       "2           chr1:4614190-4615190  chr1    4614190    4615190\n",
       "3           chr1:4615468-4616468  chr1    4615468    4616468\n",
       "4           chr1:4621593-4622593  chr1    4621593    4622593\n",
       "...                          ...   ...        ...        ...\n",
       "116373  chrX:169263066-169264066  chrX  169263066  169264066\n",
       "116374  chrX:169266871-169267871  chrX  169266871  169267871\n",
       "116375  chrX:169299283-169300283  chrX  169299283  169300283\n",
       "116376  chrX:169303654-169304654  chrX  169303654  169304654\n",
       "116377  chrX:169331986-169332986  chrX  169331986  169332986\n",
       "\n",
       "[116378 rows x 4 columns]"
      ]
     },
     "execution_count": 6,
     "metadata": {},
     "output_type": "execute_result"
    }
   ],
   "source": [
    "# Read in the peaks for which to scan\n",
    "# NOTE: the bed coordinates here should match the scanning done for tfmodisco-lite\n",
    "# Eg. width of tfmodisco-lite search arround summit of the narrow peak (start+offset)\n",
    "path_peak_nominations = \"output/\"\\\n",
    "    \"correlate_tea_atac_to_cite_rna_across_r7_clusters/\"\\\n",
    "    \"peak_to_gene_correlation_within_tads/sig_conns_df.csv\"\n",
    "\n",
    "peak_anno = pd.read_csv(path_peak_nominations)\n",
    "peak_anno = peak_anno.rename({\"peak.1\": \"name\"}, axis=1)\n",
    "peak_anno[\"chr\"] = [i.split(\":\")[0] for i in peak_anno.iloc[:,2].values]\n",
    "peak_anno[\"start\"] = [int(i.split(\":\")[-1].split(\"-\")[0]) for i in \\\n",
    "    peak_anno.iloc[:,2].values]\n",
    "peak_anno[\"end\"] = [int(i.split(\"-\")[-1]) for i in peak_anno.iloc[:,2].values]\n",
    "peaks = peak_anno[[\"name\", \"chr\", \"start\", \"end\"]]\n",
    "\n",
    "peaks = peaks.loc[~peaks[\"name\"].duplicated()]\n",
    "peaks = peaks.sort_values(by=[\"chr\", \"start\"])\n",
    "peaks.index = list(range(peaks.shape[0]))\n",
    "peaks"
   ]
  },
  {
   "cell_type": "code",
   "execution_count": 7,
   "metadata": {},
   "outputs": [],
   "source": [
    "# # Read in the DNA sequences for the peaks of interest\n",
    "# # 116,378 peaks - read into memory in about 18 seconds\n",
    "# seqs = pd.Series(\\\n",
    "#     read_seq_from_fasta(\\\n",
    "#         input_bed = peaks[[\"chr\", \"start\", \"end\"]], \n",
    "#         fai_annotation = fai_mm10, \n",
    "#         fasta = path_to_mm10),\n",
    "#     index=peaks[\"name\"].values)"
   ]
  },
  {
   "cell_type": "code",
   "execution_count": 8,
   "metadata": {},
   "outputs": [],
   "source": [
    "# Write out the DNA sequences to a file\n",
    "path_tmp_fasta = \"output/chrombpnet/modisco_merged_results/fold_0/\"\\\n",
    "    \"redo_extract_seqlets/sig_conns_dynamic_peak_set_fasta/\"\\\n",
    "    \"sig_conns_unique_peaks.fa\"\n",
    "\n",
    "# with open(path_tmp_fasta, \"w\") as tmp_f:\n",
    "#     for tmp_region in peaks[\"name\"].values:\n",
    "#         if tmp_region == peaks[\"name\"].values[-1]:\n",
    "#             tmp_f.write(f\">{tmp_region}\\n{seqs[tmp_region]}\")\n",
    "#         else:\n",
    "#             tmp_f.write(f\">{tmp_region}\\n{seqs[tmp_region]}\\n\")"
   ]
  },
  {
   "cell_type": "code",
   "execution_count": 9,
   "metadata": {},
   "outputs": [
    {
     "name": "stdout",
     "output_type": "stream",
     "text": [
      "Working on MEP...\n"
     ]
    },
    {
     "name": "stderr",
     "output_type": "stream",
     "text": [
      "DEBUG:gimme.scanner:using background: genome /home/kyle/.local/share/genomes/mm10/mm10.fa with size 200\n"
     ]
    },
    {
     "data": {
      "application/vnd.jupyter.widget-view+json": {
       "model_id": "d8b10ddb4ec94662af1e2627d5926650",
       "version_major": 2,
       "version_minor": 0
      },
      "text/plain": [
       "Scanning:   0%|          | 0/116378 [00:00<?, ? sequences/s]"
      ]
     },
     "metadata": {},
     "output_type": "display_data"
    },
    {
     "name": "stdout",
     "output_type": "stream",
     "text": [
      "Working on BMCP...\n"
     ]
    },
    {
     "name": "stderr",
     "output_type": "stream",
     "text": [
      "DEBUG:gimme.scanner:using background: genome /home/kyle/.local/share/genomes/mm10/mm10.fa with size 200\n"
     ]
    },
    {
     "data": {
      "application/vnd.jupyter.widget-view+json": {
       "model_id": "90a5545e73cf4f9793cafb03f247bbe8",
       "version_major": 2,
       "version_minor": 0
      },
      "text/plain": [
       "Scanning:   0%|          | 0/116378 [00:00<?, ? sequences/s]"
      ]
     },
     "metadata": {},
     "output_type": "display_data"
    },
    {
     "name": "stdout",
     "output_type": "stream",
     "text": [
      "Working on CD127_MP...\n"
     ]
    },
    {
     "name": "stderr",
     "output_type": "stream",
     "text": [
      "DEBUG:gimme.scanner:using background: genome /home/kyle/.local/share/genomes/mm10/mm10.fa with size 200\n"
     ]
    },
    {
     "data": {
      "application/vnd.jupyter.widget-view+json": {
       "model_id": "caa6ca59989b47e8935be30155396af8",
       "version_major": 2,
       "version_minor": 0
      },
      "text/plain": [
       "Scanning:   0%|          | 0/116378 [00:00<?, ? sequences/s]"
      ]
     },
     "metadata": {},
     "output_type": "display_data"
    },
    {
     "name": "stdout",
     "output_type": "stream",
     "text": [
      "Working on CLP1_Rrm2...\n"
     ]
    },
    {
     "name": "stderr",
     "output_type": "stream",
     "text": [
      "DEBUG:gimme.scanner:using background: genome /home/kyle/.local/share/genomes/mm10/mm10.fa with size 200\n"
     ]
    },
    {
     "data": {
      "application/vnd.jupyter.widget-view+json": {
       "model_id": "9d64901f29d94dc79cdf94ed08acaa4c",
       "version_major": 2,
       "version_minor": 0
      },
      "text/plain": [
       "Scanning:   0%|          | 0/116378 [00:00<?, ? sequences/s]"
      ]
     },
     "metadata": {},
     "output_type": "display_data"
    },
    {
     "name": "stdout",
     "output_type": "stream",
     "text": [
      "Working on eHSC...\n"
     ]
    },
    {
     "name": "stderr",
     "output_type": "stream",
     "text": [
      "DEBUG:gimme.scanner:using background: genome /home/kyle/.local/share/genomes/mm10/mm10.fa with size 200\n"
     ]
    },
    {
     "data": {
      "application/vnd.jupyter.widget-view+json": {
       "model_id": "20faa4c9baf14a57977d43622e1d00b8",
       "version_major": 2,
       "version_minor": 0
      },
      "text/plain": [
       "Scanning:   0%|          | 0/116378 [00:00<?, ? sequences/s]"
      ]
     },
     "metadata": {},
     "output_type": "display_data"
    },
    {
     "name": "stdout",
     "output_type": "stream",
     "text": [
      "Working on eHSC_Pcna...\n"
     ]
    },
    {
     "name": "stderr",
     "output_type": "stream",
     "text": [
      "DEBUG:gimme.scanner:using background: genome /home/kyle/.local/share/genomes/mm10/mm10.fa with size 200\n"
     ]
    },
    {
     "data": {
      "application/vnd.jupyter.widget-view+json": {
       "model_id": "e36160918cfc4ccb9b6acf33a25ed252",
       "version_major": 2,
       "version_minor": 0
      },
      "text/plain": [
       "Scanning:   0%|          | 0/116378 [00:00<?, ? sequences/s]"
      ]
     },
     "metadata": {},
     "output_type": "display_data"
    },
    {
     "name": "stdout",
     "output_type": "stream",
     "text": [
      "Working on ERP1...\n"
     ]
    },
    {
     "name": "stderr",
     "output_type": "stream",
     "text": [
      "DEBUG:gimme.scanner:using background: genome /home/kyle/.local/share/genomes/mm10/mm10.fa with size 200\n"
     ]
    },
    {
     "data": {
      "application/vnd.jupyter.widget-view+json": {
       "model_id": "adb78b7d1d1e4a17bfc9f44d2f3856dc",
       "version_major": 2,
       "version_minor": 0
      },
      "text/plain": [
       "Scanning:   0%|          | 0/116378 [00:00<?, ? sequences/s]"
      ]
     },
     "metadata": {},
     "output_type": "display_data"
    },
    {
     "name": "stdout",
     "output_type": "stream",
     "text": [
      "Working on ERP2...\n"
     ]
    },
    {
     "name": "stderr",
     "output_type": "stream",
     "text": [
      "DEBUG:gimme.scanner:using background: genome /home/kyle/.local/share/genomes/mm10/mm10.fa with size 200\n"
     ]
    },
    {
     "data": {
      "application/vnd.jupyter.widget-view+json": {
       "model_id": "b482fd85ea984bad87de747d74943c3e",
       "version_major": 2,
       "version_minor": 0
      },
      "text/plain": [
       "Scanning:   0%|          | 0/116378 [00:00<?, ? sequences/s]"
      ]
     },
     "metadata": {},
     "output_type": "display_data"
    },
    {
     "name": "stdout",
     "output_type": "stream",
     "text": [
      "Working on HSCP_ERP1...\n"
     ]
    },
    {
     "name": "stderr",
     "output_type": "stream",
     "text": [
      "DEBUG:gimme.scanner:using background: genome /home/kyle/.local/share/genomes/mm10/mm10.fa with size 200\n"
     ]
    },
    {
     "data": {
      "application/vnd.jupyter.widget-view+json": {
       "model_id": "6ed7ab85376449e3b70681f4f5fa5a71",
       "version_major": 2,
       "version_minor": 0
      },
      "text/plain": [
       "Scanning:   0%|          | 0/116378 [00:00<?, ? sequences/s]"
      ]
     },
     "metadata": {},
     "output_type": "display_data"
    },
    {
     "name": "stdout",
     "output_type": "stream",
     "text": [
      "Working on HSCP_HPC_Cenpf...\n"
     ]
    },
    {
     "name": "stderr",
     "output_type": "stream",
     "text": [
      "DEBUG:gimme.scanner:using background: genome /home/kyle/.local/share/genomes/mm10/mm10.fa with size 200\n"
     ]
    },
    {
     "data": {
      "application/vnd.jupyter.widget-view+json": {
       "model_id": "bb73bdaae8244573aff344fda0ccba05",
       "version_major": 2,
       "version_minor": 0
      },
      "text/plain": [
       "Scanning:   0%|          | 0/116378 [00:00<?, ? sequences/s]"
      ]
     },
     "metadata": {},
     "output_type": "display_data"
    },
    {
     "name": "stdout",
     "output_type": "stream",
     "text": [
      "Working on HSCP_HPC_Hist1h2af...\n"
     ]
    },
    {
     "name": "stderr",
     "output_type": "stream",
     "text": [
      "DEBUG:gimme.scanner:using background: genome /home/kyle/.local/share/genomes/mm10/mm10.fa with size 200\n"
     ]
    },
    {
     "data": {
      "application/vnd.jupyter.widget-view+json": {
       "model_id": "3b4531c65ab44f18b80d02330f29a326",
       "version_major": 2,
       "version_minor": 0
      },
      "text/plain": [
       "Scanning:   0%|          | 0/116378 [00:00<?, ? sequences/s]"
      ]
     },
     "metadata": {},
     "output_type": "display_data"
    },
    {
     "name": "stdout",
     "output_type": "stream",
     "text": [
      "Working on HSCP_HPC_Tk1...\n"
     ]
    },
    {
     "name": "stderr",
     "output_type": "stream",
     "text": [
      "DEBUG:gimme.scanner:using background: genome /home/kyle/.local/share/genomes/mm10/mm10.fa with size 200\n"
     ]
    },
    {
     "data": {
      "application/vnd.jupyter.widget-view+json": {
       "model_id": "410e9ff2089549bba236166fddfffe1f",
       "version_major": 2,
       "version_minor": 0
      },
      "text/plain": [
       "Scanning:   0%|          | 0/116378 [00:00<?, ? sequences/s]"
      ]
     },
     "metadata": {},
     "output_type": "display_data"
    },
    {
     "name": "stdout",
     "output_type": "stream",
     "text": [
      "Working on HSCP_MKP...\n"
     ]
    },
    {
     "name": "stderr",
     "output_type": "stream",
     "text": [
      "DEBUG:gimme.scanner:using background: genome /home/kyle/.local/share/genomes/mm10/mm10.fa with size 200\n"
     ]
    },
    {
     "data": {
      "application/vnd.jupyter.widget-view+json": {
       "model_id": "be7c5a2f28534e96becd5b903a988dad",
       "version_major": 2,
       "version_minor": 0
      },
      "text/plain": [
       "Scanning:   0%|          | 0/116378 [00:00<?, ? sequences/s]"
      ]
     },
     "metadata": {},
     "output_type": "display_data"
    },
    {
     "name": "stdout",
     "output_type": "stream",
     "text": [
      "Working on IG2_MP...\n"
     ]
    },
    {
     "name": "stderr",
     "output_type": "stream",
     "text": [
      "DEBUG:gimme.scanner:using background: genome /home/kyle/.local/share/genomes/mm10/mm10.fa with size 200\n"
     ]
    },
    {
     "data": {
      "application/vnd.jupyter.widget-view+json": {
       "model_id": "f0fc9a31c46747639380d21e1712f186",
       "version_major": 2,
       "version_minor": 0
      },
      "text/plain": [
       "Scanning:   0%|          | 0/116378 [00:00<?, ? sequences/s]"
      ]
     },
     "metadata": {},
     "output_type": "display_data"
    },
    {
     "name": "stdout",
     "output_type": "stream",
     "text": [
      "Working on IG2_proNeu1...\n"
     ]
    },
    {
     "name": "stderr",
     "output_type": "stream",
     "text": [
      "DEBUG:gimme.scanner:using background: genome /home/kyle/.local/share/genomes/mm10/mm10.fa with size 200\n"
     ]
    },
    {
     "data": {
      "application/vnd.jupyter.widget-view+json": {
       "model_id": "672d2778df07434d955890100eb8db38",
       "version_major": 2,
       "version_minor": 0
      },
      "text/plain": [
       "Scanning:   0%|          | 0/116378 [00:00<?, ? sequences/s]"
      ]
     },
     "metadata": {},
     "output_type": "display_data"
    },
    {
     "name": "stdout",
     "output_type": "stream",
     "text": [
      "Working on LT_HSC_Mllt3...\n"
     ]
    },
    {
     "name": "stderr",
     "output_type": "stream",
     "text": [
      "DEBUG:gimme.scanner:using background: genome /home/kyle/.local/share/genomes/mm10/mm10.fa with size 200\n"
     ]
    },
    {
     "data": {
      "application/vnd.jupyter.widget-view+json": {
       "model_id": "ee4afde8db8146409620ed7b1c9e847a",
       "version_major": 2,
       "version_minor": 0
      },
      "text/plain": [
       "Scanning:   0%|          | 0/116378 [00:00<?, ? sequences/s]"
      ]
     },
     "metadata": {},
     "output_type": "display_data"
    },
    {
     "name": "stdout",
     "output_type": "stream",
     "text": [
      "Working on MDP_Cpa3...\n"
     ]
    },
    {
     "name": "stderr",
     "output_type": "stream",
     "text": [
      "DEBUG:gimme.scanner:using background: genome /home/kyle/.local/share/genomes/mm10/mm10.fa with size 200\n"
     ]
    },
    {
     "data": {
      "application/vnd.jupyter.widget-view+json": {
       "model_id": "c0833448c6394a3cbaf50030caa68990",
       "version_major": 2,
       "version_minor": 0
      },
      "text/plain": [
       "Scanning:   0%|          | 0/116378 [00:00<?, ? sequences/s]"
      ]
     },
     "metadata": {},
     "output_type": "display_data"
    },
    {
     "name": "stdout",
     "output_type": "stream",
     "text": [
      "Working on MDP_Irf8...\n"
     ]
    },
    {
     "name": "stderr",
     "output_type": "stream",
     "text": [
      "DEBUG:gimme.scanner:using background: genome /home/kyle/.local/share/genomes/mm10/mm10.fa with size 200\n"
     ]
    },
    {
     "data": {
      "application/vnd.jupyter.widget-view+json": {
       "model_id": "24c60686870c4b9fbbafaed39f775e42",
       "version_major": 2,
       "version_minor": 0
      },
      "text/plain": [
       "Scanning:   0%|          | 0/116378 [00:00<?, ? sequences/s]"
      ]
     },
     "metadata": {},
     "output_type": "display_data"
    },
    {
     "name": "stdout",
     "output_type": "stream",
     "text": [
      "Working on MKP...\n"
     ]
    },
    {
     "name": "stderr",
     "output_type": "stream",
     "text": [
      "DEBUG:gimme.scanner:using background: genome /home/kyle/.local/share/genomes/mm10/mm10.fa with size 200\n"
     ]
    },
    {
     "data": {
      "application/vnd.jupyter.widget-view+json": {
       "model_id": "83f4d5933c0a4cc396ef32314164be1e",
       "version_major": 2,
       "version_minor": 0
      },
      "text/plain": [
       "Scanning:   0%|          | 0/116378 [00:00<?, ? sequences/s]"
      ]
     },
     "metadata": {},
     "output_type": "display_data"
    },
    {
     "name": "stdout",
     "output_type": "stream",
     "text": [
      "Working on ML_cell_cycle...\n"
     ]
    },
    {
     "name": "stderr",
     "output_type": "stream",
     "text": [
      "DEBUG:gimme.scanner:using background: genome /home/kyle/.local/share/genomes/mm10/mm10.fa with size 200\n"
     ]
    },
    {
     "data": {
      "application/vnd.jupyter.widget-view+json": {
       "model_id": "c273e6bc32484ce58e21bb75b690560d",
       "version_major": 2,
       "version_minor": 0
      },
      "text/plain": [
       "Scanning:   0%|          | 0/116378 [00:00<?, ? sequences/s]"
      ]
     },
     "metadata": {},
     "output_type": "display_data"
    },
    {
     "name": "stdout",
     "output_type": "stream",
     "text": [
      "Working on MPP4_Hlf...\n"
     ]
    },
    {
     "name": "stderr",
     "output_type": "stream",
     "text": [
      "DEBUG:gimme.scanner:using background: genome /home/kyle/.local/share/genomes/mm10/mm10.fa with size 200\n"
     ]
    },
    {
     "data": {
      "application/vnd.jupyter.widget-view+json": {
       "model_id": "b4869a0843cc42f5a0c6226f377f4dc7",
       "version_major": 2,
       "version_minor": 0
      },
      "text/plain": [
       "Scanning:   0%|          | 0/116378 [00:00<?, ? sequences/s]"
      ]
     },
     "metadata": {},
     "output_type": "display_data"
    },
    {
     "name": "stdout",
     "output_type": "stream",
     "text": [
      "Working on MPP4_Nkx2_3...\n"
     ]
    },
    {
     "name": "stderr",
     "output_type": "stream",
     "text": [
      "DEBUG:gimme.scanner:using background: genome /home/kyle/.local/share/genomes/mm10/mm10.fa with size 200\n"
     ]
    },
    {
     "data": {
      "application/vnd.jupyter.widget-view+json": {
       "model_id": "b67be3708b094967a97f6867b8aa4589",
       "version_major": 2,
       "version_minor": 0
      },
      "text/plain": [
       "Scanning:   0%|          | 0/116378 [00:00<?, ? sequences/s]"
      ]
     },
     "metadata": {},
     "output_type": "display_data"
    },
    {
     "name": "stdout",
     "output_type": "stream",
     "text": [
      "Working on MPP5_Egr1...\n"
     ]
    },
    {
     "name": "stderr",
     "output_type": "stream",
     "text": [
      "DEBUG:gimme.scanner:using background: genome /home/kyle/.local/share/genomes/mm10/mm10.fa with size 200\n"
     ]
    },
    {
     "data": {
      "application/vnd.jupyter.widget-view+json": {
       "model_id": "50dfe75b072d41c8ab5a3e06944b1d63",
       "version_major": 2,
       "version_minor": 0
      },
      "text/plain": [
       "Scanning:   0%|          | 0/116378 [00:00<?, ? sequences/s]"
      ]
     },
     "metadata": {},
     "output_type": "display_data"
    },
    {
     "name": "stdout",
     "output_type": "stream",
     "text": [
      "Working on MPP5_Flt3...\n"
     ]
    },
    {
     "name": "stderr",
     "output_type": "stream",
     "text": [
      "DEBUG:gimme.scanner:using background: genome /home/kyle/.local/share/genomes/mm10/mm10.fa with size 200\n"
     ]
    },
    {
     "data": {
      "application/vnd.jupyter.widget-view+json": {
       "model_id": "ad336687bd6a4209b9f3d156ba457666",
       "version_major": 2,
       "version_minor": 0
      },
      "text/plain": [
       "Scanning:   0%|          | 0/116378 [00:00<?, ? sequences/s]"
      ]
     },
     "metadata": {},
     "output_type": "display_data"
    },
    {
     "name": "stdout",
     "output_type": "stream",
     "text": [
      "Working on MultiLin_1_MEP...\n"
     ]
    },
    {
     "name": "stderr",
     "output_type": "stream",
     "text": [
      "DEBUG:gimme.scanner:using background: genome /home/kyle/.local/share/genomes/mm10/mm10.fa with size 200\n"
     ]
    },
    {
     "data": {
      "application/vnd.jupyter.widget-view+json": {
       "model_id": "1fa9c9fdeba0476bbf10feb79eef8aee",
       "version_major": 2,
       "version_minor": 0
      },
      "text/plain": [
       "Scanning:   0%|          | 0/116378 [00:00<?, ? sequences/s]"
      ]
     },
     "metadata": {},
     "output_type": "display_data"
    },
    {
     "name": "stdout",
     "output_type": "stream",
     "text": [
      "Working on MultiLin_1...\n"
     ]
    },
    {
     "name": "stderr",
     "output_type": "stream",
     "text": [
      "DEBUG:gimme.scanner:using background: genome /home/kyle/.local/share/genomes/mm10/mm10.fa with size 200\n"
     ]
    },
    {
     "data": {
      "application/vnd.jupyter.widget-view+json": {
       "model_id": "b106e7c1c39840088ead575fd9e640d8",
       "version_major": 2,
       "version_minor": 0
      },
      "text/plain": [
       "Scanning:   0%|          | 0/116378 [00:00<?, ? sequences/s]"
      ]
     },
     "metadata": {},
     "output_type": "display_data"
    },
    {
     "name": "stdout",
     "output_type": "stream",
     "text": [
      "Working on MultiLin_2_F13a1...\n"
     ]
    },
    {
     "name": "stderr",
     "output_type": "stream",
     "text": [
      "DEBUG:gimme.scanner:using background: genome /home/kyle/.local/share/genomes/mm10/mm10.fa with size 200\n"
     ]
    },
    {
     "data": {
      "application/vnd.jupyter.widget-view+json": {
       "model_id": "091cffbdac714fd8b2e67b58d65d2905",
       "version_major": 2,
       "version_minor": 0
      },
      "text/plain": [
       "Scanning:   0%|          | 0/116378 [00:00<?, ? sequences/s]"
      ]
     },
     "metadata": {},
     "output_type": "display_data"
    },
    {
     "name": "stdout",
     "output_type": "stream",
     "text": [
      "Working on MultiLin_2_Ms4a3...\n"
     ]
    },
    {
     "name": "stderr",
     "output_type": "stream",
     "text": [
      "DEBUG:gimme.scanner:using background: genome /home/kyle/.local/share/genomes/mm10/mm10.fa with size 200\n"
     ]
    },
    {
     "data": {
      "application/vnd.jupyter.widget-view+json": {
       "model_id": "090769218b28407cbf55901b74a12292",
       "version_major": 2,
       "version_minor": 0
      },
      "text/plain": [
       "Scanning:   0%|          | 0/116378 [00:00<?, ? sequences/s]"
      ]
     },
     "metadata": {},
     "output_type": "display_data"
    },
    {
     "name": "stdout",
     "output_type": "stream",
     "text": [
      "Working on pre_MultiLin_1...\n"
     ]
    },
    {
     "name": "stderr",
     "output_type": "stream",
     "text": [
      "DEBUG:gimme.scanner:using background: genome /home/kyle/.local/share/genomes/mm10/mm10.fa with size 200\n"
     ]
    },
    {
     "data": {
      "application/vnd.jupyter.widget-view+json": {
       "model_id": "93cf0c18e3714286a042345b0991d118",
       "version_major": 2,
       "version_minor": 0
      },
      "text/plain": [
       "Scanning:   0%|          | 0/116378 [00:00<?, ? sequences/s]"
      ]
     },
     "metadata": {},
     "output_type": "display_data"
    },
    {
     "name": "stdout",
     "output_type": "stream",
     "text": [
      "Working on pre_MultiLin_2...\n"
     ]
    },
    {
     "name": "stderr",
     "output_type": "stream",
     "text": [
      "DEBUG:gimme.scanner:using background: genome /home/kyle/.local/share/genomes/mm10/mm10.fa with size 200\n"
     ]
    },
    {
     "data": {
      "application/vnd.jupyter.widget-view+json": {
       "model_id": "1729dcf9ef944abba2324bd9ccaece03",
       "version_major": 2,
       "version_minor": 0
      },
      "text/plain": [
       "Scanning:   0%|          | 0/116378 [00:00<?, ? sequences/s]"
      ]
     },
     "metadata": {},
     "output_type": "display_data"
    },
    {
     "name": "stdout",
     "output_type": "stream",
     "text": [
      "Working on proNeu_1...\n"
     ]
    },
    {
     "name": "stderr",
     "output_type": "stream",
     "text": [
      "DEBUG:gimme.scanner:using background: genome /home/kyle/.local/share/genomes/mm10/mm10.fa with size 200\n"
     ]
    },
    {
     "data": {
      "application/vnd.jupyter.widget-view+json": {
       "model_id": "ac69760a10c34840a31a6743c6b15089",
       "version_major": 2,
       "version_minor": 0
      },
      "text/plain": [
       "Scanning:   0%|          | 0/116378 [00:00<?, ? sequences/s]"
      ]
     },
     "metadata": {},
     "output_type": "display_data"
    },
    {
     "name": "stdout",
     "output_type": "stream",
     "text": [
      "Working on ST_HSC...\n"
     ]
    },
    {
     "name": "stderr",
     "output_type": "stream",
     "text": [
      "DEBUG:gimme.scanner:using background: genome /home/kyle/.local/share/genomes/mm10/mm10.fa with size 200\n"
     ]
    },
    {
     "data": {
      "application/vnd.jupyter.widget-view+json": {
       "model_id": "1a3469e0e2a84d1a87737c93c9f4c35c",
       "version_major": 2,
       "version_minor": 0
      },
      "text/plain": [
       "Scanning:   0%|          | 0/116378 [00:00<?, ? sequences/s]"
      ]
     },
     "metadata": {},
     "output_type": "display_data"
    }
   ],
   "source": [
    "# 32 clusters\n",
    "# ~32 seqlet patterns for each cluster\n",
    "# 116,378 peaks to search\n",
    "# Took about 40 minutes\n",
    "path_save_motif_hits = \"output/chrombpnet/modisco_merged_results/fold_0/\"\\\n",
    "    \"redo_extract_seqlets/cluster_pwm_hits/\"\n",
    "\n",
    "path_seqlet_beds = \"output/chrombpnet/modisco_fold_0_seqlet_bed/\"\n",
    "\n",
    "# Run motif scanner\n",
    "from gimmemotifs.scanner import Scanner\n",
    "from gimmemotifs.fasta import Fasta\n",
    "\n",
    "failed_clusters = []\n",
    "for tmp_cluster in pattern_anno[\"cluster\"].unique():\n",
    "    try:\n",
    "        print(f\"Working on {tmp_cluster}...\")\n",
    "        # Get the motif indices that correspond to the current cluster\n",
    "        tmp_mo_i = np.where(pattern_anno[\"cluster\"] == tmp_cluster)[0]\n",
    "        # Filter the motif set\n",
    "        tmp_mo = [item for i, item in enumerate(modisco_motifs) if i in \\\n",
    "            tmp_mo_i]\n",
    "        # Filter the motif names\n",
    "        tmp_mo_names = modisco_names[tmp_mo_i]\n",
    "        # Filter the pattern names\n",
    "        tmp_mo_pattern_names = modisco_pattern_names[tmp_mo_i]\n",
    "        # Filter the pattern lengths\n",
    "        tmp_mo_lens = modisco_motif_sizes[tmp_mo_i]\n",
    "\n",
    "        # Initialize the scanner\n",
    "        s = Scanner()\n",
    "        s.set_genome(\"mm10\")\n",
    "        s.set_motifs(tmp_mo)\n",
    "        s.set_threshold(fpr=0.05)\n",
    "\n",
    "        scan_results = []\n",
    "        seqs = Fasta(path_tmp_fasta)\n",
    "        for i,result in enumerate(s.scan(seqs)):\n",
    "            seqname = seqs.ids[i]\n",
    "            for m,matches in enumerate(result):\n",
    "                for score, pos, strand in matches:\n",
    "                    scan_results.append([seqname, m, score, pos, strand])\n",
    "\n",
    "        scan_results = pd.DataFrame(\\\n",
    "            scan_results,\n",
    "            columns=[\"peak\", \"motif_index\", \"score\", \"pos\", \"strand\"])\n",
    "\n",
    "        # Delete scanner to free up processes\n",
    "        del s\n",
    "\n",
    "        tmp_anno = pd.DataFrame(\\\n",
    "            [seq_re.findall(i)[0] for i in scan_results[\"peak\"].values],\n",
    "            columns=[\"chr\", \"start\", \"end\"])\n",
    "        tmp_anno[\"start\"] = tmp_anno[\"start\"].astype(int).values + \\\n",
    "            scan_results[\"pos\"].astype(int).values - 1\n",
    "        tmp_anno[\"end\"] = tmp_anno[\"start\"] + \\\n",
    "            tmp_mo_lens[scan_results[\"motif_index\"].values] - 1\n",
    "        tmp_anno[\"peak\"] = scan_results[\"peak\"].values\n",
    "        tmp_anno[\"score\"] = scan_results[\"score\"].values\n",
    "        tmp_anno[\"pos\"] = scan_results[\"pos\"].values\n",
    "        tmp_anno[\"strand\"] = scan_results[\"strand\"].replace(\\\n",
    "            {-1: \"-\", 1: \"+\"}).values\n",
    "        tmp_anno[\"pattern\"] = tmp_mo_pattern_names[\\\n",
    "            scan_results[\"motif_index\"].values]\n",
    "\n",
    "        # Adjust for real start\n",
    "        tmp_anno[\"start\"] = tmp_anno[\"start\"] - 1\n",
    "        # Build index to find shared loci with modisco results\n",
    "        tmp_anno.index = (\\\n",
    "            tmp_anno[\"pattern\"].apply(lambda x: x.split(\"__\")[-1]) + \"::\" +\\\n",
    "            tmp_anno[\"chr\"] + \":\" + \\\n",
    "            tmp_anno[\"start\"].astype(str) + \"-\" + \\\n",
    "            tmp_anno[\"end\"].astype(str)).values\n",
    "    \n",
    "        ### Compare against the tfmodisco-lite instances\n",
    "        # Read in tfmodisco-lite instances\n",
    "        modisco = pd.read_table(os.path.join(\\\n",
    "                path_seqlet_beds, \n",
    "                f\"{tmp_cluster}_seqlets.bed\"), \n",
    "            header=None)\n",
    "        modisco.columns = [\"chr\", \"start\", \"end\", \"name\", \"score\", \"strand\"]\n",
    "        modisco.index = (modisco[\"name\"] + \"::\" + modisco[\"chr\"] + \":\" + \\\n",
    "            modisco[\"start\"].astype(str) + \"-\" + \\\n",
    "            modisco[\"end\"].astype(str)).values\n",
    "        # Remove duplicate instances\n",
    "        modisco = modisco.loc[\\\n",
    "            ~pd.Series(modisco.index.values).duplicated().values]\n",
    "\n",
    "        # Find shared loci\n",
    "        shared_loci = modisco.index.values[\\\n",
    "            pd.Series(modisco.index.values).isin(tmp_anno.index.values).values]\n",
    "        tmp_anno[\"in_modisco\"] = False\n",
    "        tmp_anno.loc[shared_loci, \"in_modisco\"] = True\n",
    "\n",
    "        # Write out results\n",
    "        tmp_anno = tmp_anno.sort_values(by=[\"chr\", \"start\"])\n",
    "        tmp_anno.index = list(range(tmp_anno.shape[0]))\n",
    "        tmp_anno.to_feather(os.path.join(\\\n",
    "            path_save_motif_hits,\n",
    "            f\"{tmp_cluster}.fea\"))\n",
    "\n",
    "    except Exception as e:\n",
    "        print(f\"{tmp_cluster} FAILED!!!\\n\\nError:\\n{e}\\n\\n:(\\n\")\n",
    "        failed_clusters.append(tmp_cluster)"
   ]
  },
  {
   "cell_type": "code",
   "execution_count": 10,
   "metadata": {},
   "outputs": [],
   "source": [
    "for tmp_cluster in failed_clusters:\n",
    "    try:\n",
    "        print(f\"Working on {tmp_cluster}...\")\n",
    "        # Get the motif indices that correspond to the current cluster\n",
    "        tmp_mo_i = np.where(pattern_anno[\"cluster\"] == tmp_cluster)[0]\n",
    "        # Filter the motif set\n",
    "        tmp_mo = [item for i, item in enumerate(modisco_motifs) if i in \\\n",
    "            tmp_mo_i]\n",
    "        # Filter the motif names\n",
    "        tmp_mo_names = modisco_names[tmp_mo_i]\n",
    "        # Filter the pattern names\n",
    "        tmp_mo_pattern_names = modisco_pattern_names[tmp_mo_i]\n",
    "        # Filter the pattern lengths\n",
    "        tmp_mo_lens = modisco_motif_sizes[tmp_mo_i]\n",
    "\n",
    "        # Initialize the scanner\n",
    "        s = Scanner()\n",
    "        s.set_genome(\"mm10\")\n",
    "        s.set_motifs(tmp_mo)\n",
    "        s.set_threshold(fpr=0.05)\n",
    "\n",
    "        scan_results = []\n",
    "        seqs = Fasta(path_tmp_fasta)\n",
    "        for i,result in enumerate(s.scan(seqs)):\n",
    "            seqname = seqs.ids[i]\n",
    "            for m,matches in enumerate(result):\n",
    "                for score, pos, strand in matches:\n",
    "                    scan_results.append([seqname, m, score, pos, strand])\n",
    "\n",
    "        scan_results = pd.DataFrame(\\\n",
    "            scan_results,\n",
    "            columns=[\"peak\", \"motif_index\", \"score\", \"pos\", \"strand\"])\n",
    "\n",
    "        # Delete scanner to free up processes\n",
    "        del s\n",
    "\n",
    "        tmp_anno = pd.DataFrame(\\\n",
    "            [seq_re.findall(i)[0] for i in scan_results[\"peak\"].values],\n",
    "            columns=[\"chr\", \"start\", \"end\"])\n",
    "        tmp_anno[\"start\"] = tmp_anno[\"start\"].astype(int).values + \\\n",
    "            scan_results[\"pos\"].astype(int).values - 1\n",
    "        tmp_anno[\"end\"] = tmp_anno[\"start\"] + \\\n",
    "            tmp_mo_lens[scan_results[\"motif_index\"].values] - 1\n",
    "        tmp_anno[\"peak\"] = scan_results[\"peak\"].values\n",
    "        tmp_anno[\"score\"] = scan_results[\"score\"].values\n",
    "        tmp_anno[\"pos\"] = scan_results[\"pos\"].values\n",
    "        tmp_anno[\"strand\"] = scan_results[\"strand\"].replace(\\\n",
    "            {-1: \"-\", 1: \"+\"}).values\n",
    "        tmp_anno[\"pattern\"] = tmp_mo_pattern_names[\\\n",
    "            scan_results[\"motif_index\"].values]\n",
    "\n",
    "        # Adjust for real start\n",
    "        tmp_anno[\"start\"] = tmp_anno[\"start\"] - 1\n",
    "        # Build index to find shared loci with modisco results\n",
    "        tmp_anno.index = (\\\n",
    "            tmp_anno[\"pattern\"].apply(lambda x: x.split(\"__\")[-1]) + \"::\" +\\\n",
    "            tmp_anno[\"chr\"] + \":\" + \\\n",
    "            tmp_anno[\"start\"].astype(str) + \"-\" + \\\n",
    "            tmp_anno[\"end\"].astype(str)).values\n",
    "    \n",
    "        ### Compare against the tfmodisco-lite instances\n",
    "        # Read in tfmodisco-lite instances\n",
    "        modisco = pd.read_table(os.path.join(\\\n",
    "                path_seqlet_beds, \n",
    "                f\"{tmp_cluster}_seqlets.bed\"), \n",
    "            header=None)\n",
    "        modisco.columns = [\"chr\", \"start\", \"end\", \"name\", \"score\", \"strand\"]\n",
    "        modisco.index = (modisco[\"name\"] + \"::\" + modisco[\"chr\"] + \":\" + \\\n",
    "            modisco[\"start\"].astype(str) + \"-\" + \\\n",
    "            modisco[\"end\"].astype(str)).values\n",
    "        # Remove duplicate instances\n",
    "        modisco = modisco.loc[\\\n",
    "            ~pd.Series(modisco.index.values).duplicated().values]\n",
    "\n",
    "        # Find shared loci\n",
    "        shared_loci = modisco.index.values[\\\n",
    "            pd.Series(modisco.index.values).isin(tmp_anno.index.values).values]\n",
    "        tmp_anno[\"in_modisco\"] = False\n",
    "        tmp_anno.loc[shared_loci, \"in_modisco\"] = True\n",
    "\n",
    "        # Write out results\n",
    "        tmp_anno = tmp_anno.sort_values(by=[\"chr\", \"start\"])\n",
    "        tmp_anno.index = list(range(tmp_anno.shape[0]))\n",
    "        tmp_anno.to_feather(os.path.join(\\\n",
    "            path_save_motif_hits,\n",
    "            f\"{tmp_cluster}.fea\"))\n",
    "\n",
    "    except Exception as e:\n",
    "        print(f\"{tmp_cluster} FAILED!!!\\n\\nError:\\n{e}\\n\\n:(\\n\")"
   ]
  }
 ],
 "metadata": {
  "kernelspec": {
   "display_name": "pyInfinityFlow",
   "language": "python",
   "name": "python3"
  },
  "language_info": {
   "codemirror_mode": {
    "name": "ipython",
    "version": 3
   },
   "file_extension": ".py",
   "mimetype": "text/x-python",
   "name": "python",
   "nbconvert_exporter": "python",
   "pygments_lexer": "ipython3",
   "version": "3.8.15"
  },
  "orig_nbformat": 4
 },
 "nbformat": 4,
 "nbformat_minor": 2
}
